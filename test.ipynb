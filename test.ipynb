{
 "cells": [
  {
   "attachments": {},
   "cell_type": "markdown",
   "metadata": {},
   "source": [
    "# Stage Equancy - Test Technique\n",
    "Ettore Hidoux, Janvier 2023"
   ]
  },
  {
   "attachments": {},
   "cell_type": "markdown",
   "metadata": {},
   "source": [
    "# Instructions\n",
    "La démarche de recherche et l'utilisation du code est présentée dans le notebook `test.ipynb` et le code répondant aux différentes questions est dans le fichier `test.py`.\n",
    "\n",
    "## A propos d’Equancy  \n",
    "Equancy est un cabinet de conseil international, basé à Paris et Dubaï, spécialisé dans la transformation data des entreprises.  \n",
    "   \n",
    "Nous planifions, concevons et mettons en œuvre des solutions Big Data, Data Science et Intelligence Artificielle pour nos clients. Nos projets vont de la mise en œuvre d’infrastructures spécialisées dans le traitement de la donnée de nos clients, de lacs de données jusqu’audéveloppementde systèmes opérationnels intégrant des algorithmes de machine learning ou de deep learning. Nous sommes experts dans l’industrialisation de ces plates-formes, en appliquant les principes du devops à nos infrastructures data.  \n",
    "   \n",
    "Nos clients sont de grands groupes français et internationaux (LVMH, Picard, Chanel VINCI, Volkswagen). Ils nous font confiance autant dans l’accompagnement au cadrage de leurs besoins que dans la réalisation des solutions data innovantes.  \n",
    "  \n",
    "## Contexte  \n",
    "Equancy  accompagne  les  entreprises  dans  la  valorisation  de  leurs données.  Pour  cela,  nous  développons  des  outils  qui  permettent d’interpréter, de modéliser et d’ajouter de l’intelligence aux data sets propriétaires des entreprises. Cette intelligence vient par exemple de la création automatique de nouvelles features et/ou de l’intégration de données extérieures.  \n",
    "  \n",
    "L'une des étapes la plus importante dans ce processus est de collecter, de compléter, de normaliser et de réaliser des analyses statistiques du dataset.  Par  conséquent,  les  bibliothèques  de  Python  telles  que pandas,  numpy,  matplotlib,  sklearn,  seaborn  et  toutes  les  autres bibliothèques de modèles d’expressions régulières sont essentielles pour obtenir les meilleurs résultats.  \n",
    "  \n",
    "## Description de l’exercice  \n",
    "Le but de cet exercice est de déterminer votre capacité à optimiser ces bibliothèques écrites en Python.  \n",
    "  \n",
    "Le contexte est celui de l’emploi. L’objectif de cet exercice est de déterminer le métier d’un candidat à partir des informations sur ses compétences.  \n",
    "  \n",
    "A partir d'un dataset de compétences, vous réaliserez :  \n",
    "• Un clustering non supervisé afin d'identifier les groupes de profils techniques distincts  \n",
    "• Une prédiction des profils dont le métier n'est pas labellisé  \n",
    " \n",
    "## Descriptif des données  \n",
    "Pour cet exercice on vous fournit le fichier suivant :   \n",
    "• Data.csv : Ce fichier contient un tableur de ~10.000 lignes décrivant le profil des candidats. Ce tableau est composé de 6 colonnes :  \n",
    "- Entreprise : correspond à une liste d'entreprises fictives  \n",
    "- Métier : correspond au métier du candidat (Cette liste contient les valeurs : « data scientist », « lead data scientist », « data engineer » et « data architecte »  \n",
    "- Technologies :  correspond aux compétences maîtrisées par le profil  \n",
    "- Diplôme : correspond à son niveau scolaire (Bac, Master, PhD...)  \n",
    "- Expérience :  correspond au nombre d'années d'expériences  \n",
    "- Ville : correspond au lieu de travail  \n",
    "\n",
    "## Conseils    \n",
    "Nos conseils de rédactions pour ce test :  \n",
    "• Vous devez utiliser Python, idéalement la version 3.   \n",
    "• Vous devez vous conformer à la directive de  PEP 8 style guideline pour une meilleure lisibilité  \n",
    "• Veuillez  justifier  vos  différents  choix  dans  les  commentaires,  ils seront relus par un de nos data scientist  \n",
    " \n",
    "## Compatibilité  \n",
    "Veuillez utiliser Jupyter Notebook pour vos réponses. Votre code doit être facilement  déployable,  nous  devons  pouvoir  exécuter  votre  code  nous-mêmes.   \n",
    "  \n",
    "Vous  trouverez  ci-dessous  la  liste  des  bibliothèques  que  vous  devez installer sur votre terminal:  \n",
    "```s\n",
    "pip3 install matplotlib \n",
    "pip3 install pandas \n",
    "pip3 install numpy \n",
    "pip3 install seaborn  \n",
    "pip3 install -U scikit-learn  \n",
    "```\n",
    "\n",
    "## Soumission  \n",
    "Le Projet sera livré sous forme de projet Git ou Notebook.  \n",
    "Prenez soin de justifier consciencieusement vos choix et d’analyser vos résultats. Un code clair et commenté permet une meilleure compréhension de votre démarche.  "
   ]
  },
  {
   "attachments": {},
   "cell_type": "markdown",
   "metadata": {},
   "source": [
    "## Import du code depuis `test.py`\n",
    "\n",
    "* On importe le fichier `.py` situé dans le même fichier que ce notebook.\n",
    "* On utilise `autoreload` notebook extension pour que les modifications du fichier `test.py` soient immédiatement disponible sur le notebook. "
   ]
  },
  {
   "cell_type": "code",
   "execution_count": 2,
   "metadata": {},
   "outputs": [],
   "source": [
    "%load_ext autoreload\n",
    "%autoreload 2"
   ]
  },
  {
   "cell_type": "code",
   "execution_count": 3,
   "metadata": {},
   "outputs": [],
   "source": [
    "from test import *"
   ]
  },
  {
   "cell_type": "code",
   "execution_count": 4,
   "metadata": {},
   "outputs": [],
   "source": [
    "import os\n",
    "import io\n",
    "\n",
    "import matplotlib as mp\n",
    "import pandas as pd\n",
    "import numpy as np \n",
    "import seaborn as sns\n",
    "import sklearn as sk"
   ]
  },
  {
   "attachments": {},
   "cell_type": "markdown",
   "metadata": {},
   "source": [
    "# Question 0:\n",
    "Etude du dataset\n",
    "  "
   ]
  },
  {
   "cell_type": "code",
   "execution_count": 5,
   "metadata": {},
   "outputs": [
    {
     "data": {
      "text/html": [
       "<div>\n",
       "<style scoped>\n",
       "    .dataframe tbody tr th:only-of-type {\n",
       "        vertical-align: middle;\n",
       "    }\n",
       "\n",
       "    .dataframe tbody tr th {\n",
       "        vertical-align: top;\n",
       "    }\n",
       "\n",
       "    .dataframe thead th {\n",
       "        text-align: right;\n",
       "    }\n",
       "</style>\n",
       "<table border=\"1\" class=\"dataframe\">\n",
       "  <thead>\n",
       "    <tr style=\"text-align: right;\">\n",
       "      <th></th>\n",
       "      <th>Entreprise</th>\n",
       "      <th>Metier</th>\n",
       "      <th>Technologies</th>\n",
       "      <th>Diplome</th>\n",
       "      <th>Experience</th>\n",
       "      <th>Ville</th>\n",
       "    </tr>\n",
       "  </thead>\n",
       "  <tbody>\n",
       "    <tr>\n",
       "      <th>0</th>\n",
       "      <td>Sanofi</td>\n",
       "      <td>Data scientist</td>\n",
       "      <td>Matlab/Python/Pyspark/Scikit-learn/Tensorflow</td>\n",
       "      <td>Master</td>\n",
       "      <td>1</td>\n",
       "      <td>Paris</td>\n",
       "    </tr>\n",
       "    <tr>\n",
       "      <th>1</th>\n",
       "      <td>Massachusetts General Hospital(MGH)</td>\n",
       "      <td>Data architecte</td>\n",
       "      <td>Python/Java/Scala/MongoDB</td>\n",
       "      <td>Master</td>\n",
       "      <td>3</td>\n",
       "      <td>Marseille</td>\n",
       "    </tr>\n",
       "    <tr>\n",
       "      <th>2</th>\n",
       "      <td>Delve</td>\n",
       "      <td>Lead data scientist</td>\n",
       "      <td>SPSS/SQL/Teradata/R/Python/Tensorflow/scikit-l...</td>\n",
       "      <td>Master</td>\n",
       "      <td>3</td>\n",
       "      <td>Nantes</td>\n",
       "    </tr>\n",
       "    <tr>\n",
       "      <th>3</th>\n",
       "      <td>Ann &amp; Robert H. Lurie Children’s Hospital of C...</td>\n",
       "      <td>Data scientist</td>\n",
       "      <td>C/C++/Java/Python</td>\n",
       "      <td>Master</td>\n",
       "      <td>1,5</td>\n",
       "      <td>Marseille</td>\n",
       "    </tr>\n",
       "    <tr>\n",
       "      <th>4</th>\n",
       "      <td>Arm</td>\n",
       "      <td>Data scientist</td>\n",
       "      <td>Matlab/Python/C++/numpy/Tensorflow/scikit-learn</td>\n",
       "      <td>Phd</td>\n",
       "      <td>NaN</td>\n",
       "      <td>Bordeaux</td>\n",
       "    </tr>\n",
       "  </tbody>\n",
       "</table>\n",
       "</div>"
      ],
      "text/plain": [
       "                                          Entreprise               Metier  \\\n",
       "0                                             Sanofi       Data scientist   \n",
       "1                Massachusetts General Hospital(MGH)      Data architecte   \n",
       "2                                              Delve  Lead data scientist   \n",
       "3  Ann & Robert H. Lurie Children’s Hospital of C...       Data scientist   \n",
       "4                                                Arm       Data scientist   \n",
       "\n",
       "                                        Technologies Diplome Experience  \\\n",
       "0      Matlab/Python/Pyspark/Scikit-learn/Tensorflow  Master          1   \n",
       "1                          Python/Java/Scala/MongoDB  Master          3   \n",
       "2  SPSS/SQL/Teradata/R/Python/Tensorflow/scikit-l...  Master          3   \n",
       "3                                  C/C++/Java/Python  Master        1,5   \n",
       "4    Matlab/Python/C++/numpy/Tensorflow/scikit-learn     Phd        NaN   \n",
       "\n",
       "       Ville  \n",
       "0      Paris  \n",
       "1  Marseille  \n",
       "2     Nantes  \n",
       "3  Marseille  \n",
       "4   Bordeaux  "
      ]
     },
     "execution_count": 5,
     "metadata": {},
     "output_type": "execute_result"
    }
   ],
   "source": [
    "df = pd.read_csv('data/data.csv')\n",
    "df.head()"
   ]
  },
  {
   "cell_type": "code",
   "execution_count": 150,
   "metadata": {},
   "outputs": [
    {
     "data": {
      "text/plain": [
       "Entreprise      object\n",
       "Metier          object\n",
       "Technologies    object\n",
       "Diplome         object\n",
       "Experience      object\n",
       "Ville           object\n",
       "dtype: object"
      ]
     },
     "execution_count": 150,
     "metadata": {},
     "output_type": "execute_result"
    }
   ],
   "source": [
    "df.dtypes"
   ]
  },
  {
   "cell_type": "code",
   "execution_count": 151,
   "metadata": {},
   "outputs": [],
   "source": [
    "df.Experience = df.Experience.str.replace(',', '.').astype(float)"
   ]
  },
  {
   "attachments": {},
   "cell_type": "markdown",
   "metadata": {},
   "source": [
    "# Question 1:\n",
    "Combien y a t-il d'observations dans ce dataset? \n",
    "Y a t-il des valeurs manquantes ?  "
   ]
  },
  {
   "cell_type": "code",
   "execution_count": 7,
   "metadata": {},
   "outputs": [
    {
     "data": {
      "text/plain": [
       "(9582, 6)"
      ]
     },
     "execution_count": 7,
     "metadata": {},
     "output_type": "execute_result"
    }
   ],
   "source": [
    "df.shape"
   ]
  },
  {
   "cell_type": "code",
   "execution_count": 8,
   "metadata": {},
   "outputs": [
    {
     "data": {
      "text/plain": [
       "'Il y a 9582 observations dans ce dataset.'"
      ]
     },
     "execution_count": 8,
     "metadata": {},
     "output_type": "execute_result"
    }
   ],
   "source": [
    "observation_number(df)"
   ]
  },
  {
   "cell_type": "code",
   "execution_count": 9,
   "metadata": {},
   "outputs": [
    {
     "data": {
      "text/plain": [
       "Entreprise      17\n",
       "Metier          19\n",
       "Technologies     0\n",
       "Diplome          0\n",
       "Experience      94\n",
       "Ville            0\n",
       "dtype: int64"
      ]
     },
     "execution_count": 9,
     "metadata": {},
     "output_type": "execute_result"
    }
   ],
   "source": [
    "df.isnull().sum()"
   ]
  },
  {
   "cell_type": "code",
   "execution_count": 10,
   "metadata": {},
   "outputs": [
    {
     "data": {
      "text/plain": [
       "\"Il y a:\\n17 valeur manquantesdans la colonne 'Entreprise'\\n19 valeur manquantesdans la colonne 'Metier'\\n94 valeur manquantesdans la colonne 'Experience'\\n\""
      ]
     },
     "execution_count": 10,
     "metadata": {},
     "output_type": "execute_result"
    }
   ],
   "source": [
    "missing_values(df)"
   ]
  },
  {
   "attachments": {},
   "cell_type": "markdown",
   "metadata": {},
   "source": [
    "# Question 2:\n",
    "Réaliser l'imputation des valeurs manquantes pour la variable \"Experience\" avec :   \n",
    "1. la valeur médiane pour les data scientists  \n",
    "2. la valeur moyenne pour les data engineers  "
   ]
  },
  {
   "cell_type": "code",
   "execution_count": 11,
   "metadata": {},
   "outputs": [
    {
     "data": {
      "text/html": [
       "<div>\n",
       "<style scoped>\n",
       "    .dataframe tbody tr th:only-of-type {\n",
       "        vertical-align: middle;\n",
       "    }\n",
       "\n",
       "    .dataframe tbody tr th {\n",
       "        vertical-align: top;\n",
       "    }\n",
       "\n",
       "    .dataframe thead th {\n",
       "        text-align: right;\n",
       "    }\n",
       "</style>\n",
       "<table border=\"1\" class=\"dataframe\">\n",
       "  <thead>\n",
       "    <tr style=\"text-align: right;\">\n",
       "      <th></th>\n",
       "      <th>mean</th>\n",
       "      <th>median</th>\n",
       "    </tr>\n",
       "    <tr>\n",
       "      <th>Metier</th>\n",
       "      <th></th>\n",
       "      <th></th>\n",
       "    </tr>\n",
       "  </thead>\n",
       "  <tbody>\n",
       "    <tr>\n",
       "      <th>Data architecte</th>\n",
       "      <td>3.000476</td>\n",
       "      <td>2.5</td>\n",
       "    </tr>\n",
       "    <tr>\n",
       "      <th>Data engineer</th>\n",
       "      <td>2.984959</td>\n",
       "      <td>2.5</td>\n",
       "    </tr>\n",
       "    <tr>\n",
       "      <th>Data scientist</th>\n",
       "      <td>2.243282</td>\n",
       "      <td>2.0</td>\n",
       "    </tr>\n",
       "    <tr>\n",
       "      <th>Lead data scientist</th>\n",
       "      <td>3.965261</td>\n",
       "      <td>3.5</td>\n",
       "    </tr>\n",
       "  </tbody>\n",
       "</table>\n",
       "</div>"
      ],
      "text/plain": [
       "                         mean  median\n",
       "Metier                               \n",
       "Data architecte      3.000476     2.5\n",
       "Data engineer        2.984959     2.5\n",
       "Data scientist       2.243282     2.0\n",
       "Lead data scientist  3.965261     3.5"
      ]
     },
     "execution_count": 11,
     "metadata": {},
     "output_type": "execute_result"
    }
   ],
   "source": [
    "df.groupby('Metier').agg(['mean', 'median'])['Experience']"
   ]
  },
  {
   "cell_type": "code",
   "execution_count": 12,
   "metadata": {},
   "outputs": [],
   "source": [
    "df.loc[(df.Experience.isna()) & (df.Metier=='Data scientist'), 'Experience'] = 2"
   ]
  },
  {
   "cell_type": "code",
   "execution_count": 13,
   "metadata": {},
   "outputs": [
    {
     "data": {
      "text/plain": [
       "0        1.0\n",
       "3        1.5\n",
       "4        2.0\n",
       "6        0.0\n",
       "7        4.0\n",
       "        ... \n",
       "9577     1.5\n",
       "9578    11.0\n",
       "9579     1.0\n",
       "9580    17.0\n",
       "9581     0.0\n",
       "Name: Experience, Length: 3865, dtype: float64"
      ]
     },
     "execution_count": 13,
     "metadata": {},
     "output_type": "execute_result"
    }
   ],
   "source": [
    "df.loc[df.Metier=='Data scientist', 'Experience']"
   ]
  },
  {
   "cell_type": "code",
   "execution_count": 14,
   "metadata": {},
   "outputs": [],
   "source": [
    "df.loc[(df.Experience.isna()) & (df.Metier=='Data engineer'), 'Experience'] = 2.984959"
   ]
  },
  {
   "attachments": {},
   "cell_type": "markdown",
   "metadata": {},
   "source": [
    "# Question 3:\n",
    "Combien d'années d'expériences ont, en moyenne, chacun des profils : le data scientist, le lead data scientist et le data engineer en moyenne ? "
   ]
  },
  {
   "cell_type": "code",
   "execution_count": 15,
   "metadata": {},
   "outputs": [
    {
     "data": {
      "text/html": [
       "<div>\n",
       "<style scoped>\n",
       "    .dataframe tbody tr th:only-of-type {\n",
       "        vertical-align: middle;\n",
       "    }\n",
       "\n",
       "    .dataframe tbody tr th {\n",
       "        vertical-align: top;\n",
       "    }\n",
       "\n",
       "    .dataframe thead th {\n",
       "        text-align: right;\n",
       "    }\n",
       "</style>\n",
       "<table border=\"1\" class=\"dataframe\">\n",
       "  <thead>\n",
       "    <tr style=\"text-align: right;\">\n",
       "      <th></th>\n",
       "      <th>Experience</th>\n",
       "    </tr>\n",
       "    <tr>\n",
       "      <th>Metier</th>\n",
       "      <th></th>\n",
       "    </tr>\n",
       "  </thead>\n",
       "  <tbody>\n",
       "    <tr>\n",
       "      <th>Data architecte</th>\n",
       "      <td>3.000476</td>\n",
       "    </tr>\n",
       "    <tr>\n",
       "      <th>Data engineer</th>\n",
       "      <td>2.984959</td>\n",
       "    </tr>\n",
       "    <tr>\n",
       "      <th>Data scientist</th>\n",
       "      <td>2.241268</td>\n",
       "    </tr>\n",
       "    <tr>\n",
       "      <th>Lead data scientist</th>\n",
       "      <td>3.965261</td>\n",
       "    </tr>\n",
       "  </tbody>\n",
       "</table>\n",
       "</div>"
      ],
      "text/plain": [
       "                     Experience\n",
       "Metier                         \n",
       "Data architecte        3.000476\n",
       "Data engineer          2.984959\n",
       "Data scientist         2.241268\n",
       "Lead data scientist    3.965261"
      ]
     },
     "execution_count": 15,
     "metadata": {},
     "output_type": "execute_result"
    }
   ],
   "source": [
    "df.groupby('Metier').mean()"
   ]
  },
  {
   "cell_type": "code",
   "execution_count": 16,
   "metadata": {},
   "outputs": [
    {
     "data": {
      "text/plain": [
       "\"La moyenne d'experience\\npour un Data architecte est 3.000476 années\\npour un Data engineer est 2.984959 années\\npour un Data scientist est 2.241268 années\\npour un Lead data scientist est 3.965261 années\\n\""
      ]
     },
     "execution_count": 16,
     "metadata": {},
     "output_type": "execute_result"
    }
   ],
   "source": [
    "experience_average_per_job(df)"
   ]
  },
  {
   "attachments": {},
   "cell_type": "markdown",
   "metadata": {},
   "source": [
    "# Question 4:\n",
    "Faire la représentation graphique de votre choix afin de comparer le nombre moyen d'années d'expériences pour chaque métier."
   ]
  },
  {
   "cell_type": "code",
   "execution_count": 17,
   "metadata": {},
   "outputs": [
    {
     "data": {
      "text/plain": [
       "<AxesSubplot:xlabel='Experience', ylabel='Count'>"
      ]
     },
     "execution_count": 17,
     "metadata": {},
     "output_type": "execute_result"
    },
    {
     "data": {
      "image/png": "[encoded data removed]",
      "text/plain": [
       "<Figure size 640x480 with 1 Axes>"
      ]
     },
     "metadata": {},
     "output_type": "display_data"
    }
   ],
   "source": [
    "sns.histplot(df, x='Experience', hue='Metier', kde=True, )"
   ]
  },
  {
   "cell_type": "code",
   "execution_count": 154,
   "metadata": {},
   "outputs": [
    {
     "data": {
      "text/plain": [
       "<AxesSubplot:xlabel='Experience', ylabel='Count'>"
      ]
     },
     "execution_count": 154,
     "metadata": {},
     "output_type": "execute_result"
    },
    {
     "data": {
      "image/png": "[encoded data removed]",
      "text/plain": [
       "<Figure size 640x480 with 1 Axes>"
      ]
     },
     "metadata": {},
     "output_type": "display_data"
    }
   ],
   "source": [
    "sns.histplot(df, x='Experience', kde=True, )"
   ]
  },
  {
   "attachments": {},
   "cell_type": "markdown",
   "metadata": {},
   "source": [
    "# Question 5:\n",
    "Transformer la variable continue 'Experience' en une nouvelle variable catégorielle 'Exp_label' à 4 modalités : débutant, confirmé, avancé et expert. Veuillez expliquer votre choix de la règle de transformation.  "
   ]
  },
  {
   "cell_type": "code",
   "execution_count": 18,
   "metadata": {},
   "outputs": [
    {
     "data": {
      "text/plain": [
       "array([ 1.,  3.,  3., ...,  1., 17.,  0.])"
      ]
     },
     "execution_count": 18,
     "metadata": {},
     "output_type": "execute_result"
    }
   ],
   "source": [
    "np.array(df.Experience.dropna())"
   ]
  },
  {
   "cell_type": "code",
   "execution_count": 153,
   "metadata": {},
   "outputs": [
    {
     "data": {
      "text/plain": [
       "3.5"
      ]
     },
     "execution_count": 153,
     "metadata": {},
     "output_type": "execute_result"
    }
   ],
   "source": [
    "np.percentile(df.Experience.dropna(), q=75)"
   ]
  },
  {
   "attachments": {},
   "cell_type": "markdown",
   "metadata": {},
   "source": [
    "**Explication:** \n",
    "\n",
    "J'ai choisi d'utiliser la fonction percentile de numpy pour transformer la colonne 'Experience'. En effet, il valait trouver 3 seuils afin de pouvoir découper cette variable continue en 4 modalités: le label débutant representera le quart des personnes avec le moins d'experiences (valeur inférieur au premier quartile), confirmé: le quart des personnes avec une experience inférieures à la médianne, avancé: le quart des personnes avec une experience inférieures au deuxième quatile et expert: les personnes avec une experience supérieur au deuxième quartile.\n",
    "\n",
    "Cela permet d'avoir une labelisation équilibrée et aura pour conséquence des performace plus intéressante de notre modèle (moins sensible aux outliers)."
   ]
  },
  {
   "cell_type": "code",
   "execution_count": 20,
   "metadata": {},
   "outputs": [
    {
     "data": {
      "text/html": [
       "<div>\n",
       "<style scoped>\n",
       "    .dataframe tbody tr th:only-of-type {\n",
       "        vertical-align: middle;\n",
       "    }\n",
       "\n",
       "    .dataframe tbody tr th {\n",
       "        vertical-align: top;\n",
       "    }\n",
       "\n",
       "    .dataframe thead th {\n",
       "        text-align: right;\n",
       "    }\n",
       "</style>\n",
       "<table border=\"1\" class=\"dataframe\">\n",
       "  <thead>\n",
       "    <tr style=\"text-align: right;\">\n",
       "      <th></th>\n",
       "      <th>Entreprise</th>\n",
       "      <th>Metier</th>\n",
       "      <th>Technologies</th>\n",
       "      <th>Diplome</th>\n",
       "      <th>Experience</th>\n",
       "      <th>Ville</th>\n",
       "    </tr>\n",
       "  </thead>\n",
       "  <tbody>\n",
       "    <tr>\n",
       "      <th>0</th>\n",
       "      <td>Sanofi</td>\n",
       "      <td>Data scientist</td>\n",
       "      <td>Matlab/Python/Pyspark/Scikit-learn/Tensorflow</td>\n",
       "      <td>Master</td>\n",
       "      <td>confirmé</td>\n",
       "      <td>Paris</td>\n",
       "    </tr>\n",
       "    <tr>\n",
       "      <th>1</th>\n",
       "      <td>Massachusetts General Hospital(MGH)</td>\n",
       "      <td>Data architecte</td>\n",
       "      <td>Python/Java/Scala/MongoDB</td>\n",
       "      <td>Master</td>\n",
       "      <td>avancé</td>\n",
       "      <td>Marseille</td>\n",
       "    </tr>\n",
       "    <tr>\n",
       "      <th>2</th>\n",
       "      <td>Delve</td>\n",
       "      <td>Lead data scientist</td>\n",
       "      <td>SPSS/SQL/Teradata/R/Python/Tensorflow/scikit-l...</td>\n",
       "      <td>Master</td>\n",
       "      <td>avancé</td>\n",
       "      <td>Nantes</td>\n",
       "    </tr>\n",
       "    <tr>\n",
       "      <th>3</th>\n",
       "      <td>Ann &amp; Robert H. Lurie Children’s Hospital of C...</td>\n",
       "      <td>Data scientist</td>\n",
       "      <td>C/C++/Java/Python</td>\n",
       "      <td>Master</td>\n",
       "      <td>confirmé</td>\n",
       "      <td>Marseille</td>\n",
       "    </tr>\n",
       "    <tr>\n",
       "      <th>4</th>\n",
       "      <td>Arm</td>\n",
       "      <td>Data scientist</td>\n",
       "      <td>Matlab/Python/C++/numpy/Tensorflow/scikit-learn</td>\n",
       "      <td>Phd</td>\n",
       "      <td>avancé</td>\n",
       "      <td>Bordeaux</td>\n",
       "    </tr>\n",
       "  </tbody>\n",
       "</table>\n",
       "</div>"
      ],
      "text/plain": [
       "                                          Entreprise               Metier  \\\n",
       "0                                             Sanofi       Data scientist   \n",
       "1                Massachusetts General Hospital(MGH)      Data architecte   \n",
       "2                                              Delve  Lead data scientist   \n",
       "3  Ann & Robert H. Lurie Children’s Hospital of C...       Data scientist   \n",
       "4                                                Arm       Data scientist   \n",
       "\n",
       "                                        Technologies Diplome Experience  \\\n",
       "0      Matlab/Python/Pyspark/Scikit-learn/Tensorflow  Master   confirmé   \n",
       "1                          Python/Java/Scala/MongoDB  Master     avancé   \n",
       "2  SPSS/SQL/Teradata/R/Python/Tensorflow/scikit-l...  Master     avancé   \n",
       "3                                  C/C++/Java/Python  Master   confirmé   \n",
       "4    Matlab/Python/C++/numpy/Tensorflow/scikit-learn     Phd     avancé   \n",
       "\n",
       "       Ville  \n",
       "0      Paris  \n",
       "1  Marseille  \n",
       "2     Nantes  \n",
       "3  Marseille  \n",
       "4   Bordeaux  "
      ]
     },
     "execution_count": 20,
     "metadata": {},
     "output_type": "execute_result"
    }
   ],
   "source": [
    "experience_labellizer(df).head()"
   ]
  },
  {
   "attachments": {},
   "cell_type": "markdown",
   "metadata": {},
   "source": [
    "# Question 6:\n",
    "Quelles sont les 5 technologies les plus utilisées ? Faites un graphique."
   ]
  },
  {
   "cell_type": "code",
   "execution_count": 21,
   "metadata": {},
   "outputs": [],
   "source": [
    "from collections import Counter\n",
    "\n",
    "technologies = Counter(list(df.Technologies.str.split('/').explode()))\n",
    "technologies = dict(sorted(technologies.items(), key=lambda item: item[1], reverse=True))\n",
    "#technologies"
   ]
  },
  {
   "cell_type": "code",
   "execution_count": 22,
   "metadata": {},
   "outputs": [
    {
     "data": {
      "text/plain": [
       "dict_keys(['Python', 'R', 'SQL', 'Java', 'Hadoop', 'Excel', 'C++', 'Spark', 'Linux', 'MongoDB', 'VBA', 'machine learning', 'SAS', 'Docker', 'Matlab', 'Hive', 'Tensorflow', 'Elasticsearch', 'Big data', 'C', 'Kibana', 'AWS', 'GNU', 'Teradata', '', 'scikit-learn', 'Machine learning', 'Anglais', 'Pyspark', 'HDFS', 'SPSS', 'Microsoft Azure', 'MariaDB', 'Scikit-learn', 'Scala', 'Cassandra', 'Matplotlib', 'AI', 'Scoring', 'Vertica', 'Tableau', 'Pycharm', 'Kafka', 'NoSQL', 'Deep learning', 'PostgreSQL', 'Yarn', 'Map-Reduce', 'PIG', 'HBASE', 'PySpark', 'anglais', 'numpy', 'Redshift', 'NoSQ', 'Hadoop(HDFS)', 'ORACLE', 'MySQL', 'Windows', 'Perl', 'Ruby'])"
      ]
     },
     "execution_count": 22,
     "metadata": {},
     "output_type": "execute_result"
    }
   ],
   "source": [
    "technologies.keys()"
   ]
  },
  {
   "cell_type": "code",
   "execution_count": 23,
   "metadata": {},
   "outputs": [
    {
     "data": {
      "image/png": "[encoded data removed]",
      "text/plain": [
       "<Figure size 640x480 with 1 Axes>"
      ]
     },
     "metadata": {},
     "output_type": "display_data"
    }
   ],
   "source": [
    "top5 = list(technologies.keys())[:5]\n",
    "top5value = list(technologies.values())[:5]\n",
    "\n",
    "pieChart = mp.pyplot.pie(top5value, labels=top5, autopct='%0.0f%%', )"
   ]
  },
  {
   "cell_type": "code",
   "execution_count": 24,
   "metadata": {},
   "outputs": [
    {
     "data": {
      "image/png": "[encoded data removed]",
      "text/plain": [
       "<Figure size 640x480 with 1 Axes>"
      ]
     },
     "metadata": {},
     "output_type": "display_data"
    }
   ],
   "source": [
    "top5.append('other')\n",
    "top5value.append(sum(list(technologies.values())[5:]))\n",
    "\n",
    "pieChart = mp.pyplot.pie(top5value, labels=top5, autopct='%0.0f%%')"
   ]
  },
  {
   "attachments": {},
   "cell_type": "markdown",
   "metadata": {},
   "source": [
    "# Question 7:\n",
    "Réaliser une méthode de clustering non supervisée de votre choix pour faire apparaître le nombre de clusters que vous jugerez pertinents. Donnez les caractéristiques de chacun des clusters.  \n",
    "1. Justifier le nombre de clusters   \n",
    "2. Justifier la performance de votre algorithme grâce à une métrique.  \n",
    "3. Interpréter votre résultat.  "
   ]
  },
  {
   "cell_type": "code",
   "execution_count": 25,
   "metadata": {},
   "outputs": [
    {
     "data": {
      "text/html": [
       "<div>\n",
       "<style scoped>\n",
       "    .dataframe tbody tr th:only-of-type {\n",
       "        vertical-align: middle;\n",
       "    }\n",
       "\n",
       "    .dataframe tbody tr th {\n",
       "        vertical-align: top;\n",
       "    }\n",
       "\n",
       "    .dataframe thead th {\n",
       "        text-align: right;\n",
       "    }\n",
       "</style>\n",
       "<table border=\"1\" class=\"dataframe\">\n",
       "  <thead>\n",
       "    <tr style=\"text-align: right;\">\n",
       "      <th></th>\n",
       "      <th>Entreprise</th>\n",
       "      <th>Metier</th>\n",
       "      <th>Technologies</th>\n",
       "      <th>Diplome</th>\n",
       "      <th>Experience</th>\n",
       "      <th>Ville</th>\n",
       "    </tr>\n",
       "  </thead>\n",
       "  <tbody>\n",
       "    <tr>\n",
       "      <th>0</th>\n",
       "      <td>Sanofi</td>\n",
       "      <td>Data scientist</td>\n",
       "      <td>Matlab/Python/Pyspark/Scikit-learn/Tensorflow</td>\n",
       "      <td>Master</td>\n",
       "      <td>1.0</td>\n",
       "      <td>Paris</td>\n",
       "    </tr>\n",
       "    <tr>\n",
       "      <th>1</th>\n",
       "      <td>Massachusetts General Hospital(MGH)</td>\n",
       "      <td>Data architecte</td>\n",
       "      <td>Python/Java/Scala/MongoDB</td>\n",
       "      <td>Master</td>\n",
       "      <td>3.0</td>\n",
       "      <td>Marseille</td>\n",
       "    </tr>\n",
       "    <tr>\n",
       "      <th>2</th>\n",
       "      <td>Delve</td>\n",
       "      <td>Lead data scientist</td>\n",
       "      <td>SPSS/SQL/Teradata/R/Python/Tensorflow/scikit-l...</td>\n",
       "      <td>Master</td>\n",
       "      <td>3.0</td>\n",
       "      <td>Nantes</td>\n",
       "    </tr>\n",
       "    <tr>\n",
       "      <th>3</th>\n",
       "      <td>Ann &amp; Robert H. Lurie Children’s Hospital of C...</td>\n",
       "      <td>Data scientist</td>\n",
       "      <td>C/C++/Java/Python</td>\n",
       "      <td>Master</td>\n",
       "      <td>1.5</td>\n",
       "      <td>Marseille</td>\n",
       "    </tr>\n",
       "    <tr>\n",
       "      <th>4</th>\n",
       "      <td>Arm</td>\n",
       "      <td>Data scientist</td>\n",
       "      <td>Matlab/Python/C++/numpy/Tensorflow/scikit-learn</td>\n",
       "      <td>Phd</td>\n",
       "      <td>2.0</td>\n",
       "      <td>Bordeaux</td>\n",
       "    </tr>\n",
       "  </tbody>\n",
       "</table>\n",
       "</div>"
      ],
      "text/plain": [
       "                                          Entreprise               Metier  \\\n",
       "0                                             Sanofi       Data scientist   \n",
       "1                Massachusetts General Hospital(MGH)      Data architecte   \n",
       "2                                              Delve  Lead data scientist   \n",
       "3  Ann & Robert H. Lurie Children’s Hospital of C...       Data scientist   \n",
       "4                                                Arm       Data scientist   \n",
       "\n",
       "                                        Technologies Diplome  Experience  \\\n",
       "0      Matlab/Python/Pyspark/Scikit-learn/Tensorflow  Master         1.0   \n",
       "1                          Python/Java/Scala/MongoDB  Master         3.0   \n",
       "2  SPSS/SQL/Teradata/R/Python/Tensorflow/scikit-l...  Master         3.0   \n",
       "3                                  C/C++/Java/Python  Master         1.5   \n",
       "4    Matlab/Python/C++/numpy/Tensorflow/scikit-learn     Phd         2.0   \n",
       "\n",
       "       Ville  \n",
       "0      Paris  \n",
       "1  Marseille  \n",
       "2     Nantes  \n",
       "3  Marseille  \n",
       "4   Bordeaux  "
      ]
     },
     "execution_count": 25,
     "metadata": {},
     "output_type": "execute_result"
    }
   ],
   "source": [
    "df.head()"
   ]
  },
  {
   "cell_type": "code",
   "execution_count": 43,
   "metadata": {},
   "outputs": [
    {
     "data": {
      "text/plain": [
       "1383"
      ]
     },
     "execution_count": 43,
     "metadata": {},
     "output_type": "execute_result"
    }
   ],
   "source": [
    "df.Entreprise.unique().size"
   ]
  },
  {
   "cell_type": "code",
   "execution_count": 78,
   "metadata": {},
   "outputs": [
    {
     "data": {
      "text/html": [
       "<div>\n",
       "<style scoped>\n",
       "    .dataframe tbody tr th:only-of-type {\n",
       "        vertical-align: middle;\n",
       "    }\n",
       "\n",
       "    .dataframe tbody tr th {\n",
       "        vertical-align: top;\n",
       "    }\n",
       "\n",
       "    .dataframe thead th {\n",
       "        text-align: right;\n",
       "    }\n",
       "</style>\n",
       "<table border=\"1\" class=\"dataframe\">\n",
       "  <thead>\n",
       "    <tr style=\"text-align: right;\">\n",
       "      <th>Entreprise</th>\n",
       "      <th>10x Genomics</th>\n",
       "      <th>1871</th>\n",
       "      <th>23andMe</th>\n",
       "      <th>2M Research Services</th>\n",
       "      <th>3Q Digital</th>\n",
       "      <th>605</th>\n",
       "      <th>7Park Data</th>\n",
       "      <th>84.51°</th>\n",
       "      <th>A+E Networks</th>\n",
       "      <th>A-Line Staffing</th>\n",
       "      <th>...</th>\n",
       "      <th>exp</th>\n",
       "      <th>fractalanalytics</th>\n",
       "      <th>h2o.ai</th>\n",
       "      <th>iHeartMedia, Inc.</th>\n",
       "      <th>raag solutions</th>\n",
       "      <th>thoughtmatrix</th>\n",
       "      <th>true[x]</th>\n",
       "      <th>xentity corporation</th>\n",
       "      <th>Øptimus Consulting</th>\n",
       "      <th>쿠팡</th>\n",
       "    </tr>\n",
       "    <tr>\n",
       "      <th>Metier</th>\n",
       "      <th></th>\n",
       "      <th></th>\n",
       "      <th></th>\n",
       "      <th></th>\n",
       "      <th></th>\n",
       "      <th></th>\n",
       "      <th></th>\n",
       "      <th></th>\n",
       "      <th></th>\n",
       "      <th></th>\n",
       "      <th></th>\n",
       "      <th></th>\n",
       "      <th></th>\n",
       "      <th></th>\n",
       "      <th></th>\n",
       "      <th></th>\n",
       "      <th></th>\n",
       "      <th></th>\n",
       "      <th></th>\n",
       "      <th></th>\n",
       "      <th></th>\n",
       "    </tr>\n",
       "  </thead>\n",
       "  <tbody>\n",
       "    <tr>\n",
       "      <th>Data architecte</th>\n",
       "      <td>1.0</td>\n",
       "      <td>1.0</td>\n",
       "      <td>0.0</td>\n",
       "      <td>1.0</td>\n",
       "      <td>0.0</td>\n",
       "      <td>0.0</td>\n",
       "      <td>0.0</td>\n",
       "      <td>3.0</td>\n",
       "      <td>0.0</td>\n",
       "      <td>1.0</td>\n",
       "      <td>...</td>\n",
       "      <td>1.0</td>\n",
       "      <td>1.0</td>\n",
       "      <td>1.0</td>\n",
       "      <td>0.0</td>\n",
       "      <td>1.0</td>\n",
       "      <td>0.0</td>\n",
       "      <td>0.0</td>\n",
       "      <td>5.0</td>\n",
       "      <td>1.0</td>\n",
       "      <td>0.0</td>\n",
       "    </tr>\n",
       "    <tr>\n",
       "      <th>Data engineer</th>\n",
       "      <td>1.0</td>\n",
       "      <td>1.0</td>\n",
       "      <td>0.0</td>\n",
       "      <td>1.0</td>\n",
       "      <td>0.0</td>\n",
       "      <td>0.0</td>\n",
       "      <td>0.0</td>\n",
       "      <td>3.0</td>\n",
       "      <td>0.0</td>\n",
       "      <td>1.0</td>\n",
       "      <td>...</td>\n",
       "      <td>1.0</td>\n",
       "      <td>1.0</td>\n",
       "      <td>1.0</td>\n",
       "      <td>1.0</td>\n",
       "      <td>1.0</td>\n",
       "      <td>0.0</td>\n",
       "      <td>1.0</td>\n",
       "      <td>5.0</td>\n",
       "      <td>1.0</td>\n",
       "      <td>0.0</td>\n",
       "    </tr>\n",
       "    <tr>\n",
       "      <th>Data scientist</th>\n",
       "      <td>1.0</td>\n",
       "      <td>1.0</td>\n",
       "      <td>15.0</td>\n",
       "      <td>1.0</td>\n",
       "      <td>1.0</td>\n",
       "      <td>1.0</td>\n",
       "      <td>1.0</td>\n",
       "      <td>3.0</td>\n",
       "      <td>1.0</td>\n",
       "      <td>1.0</td>\n",
       "      <td>...</td>\n",
       "      <td>1.0</td>\n",
       "      <td>2.0</td>\n",
       "      <td>7.0</td>\n",
       "      <td>1.0</td>\n",
       "      <td>1.0</td>\n",
       "      <td>1.0</td>\n",
       "      <td>1.0</td>\n",
       "      <td>5.0</td>\n",
       "      <td>1.0</td>\n",
       "      <td>2.0</td>\n",
       "    </tr>\n",
       "    <tr>\n",
       "      <th>Lead data scientist</th>\n",
       "      <td>1.0</td>\n",
       "      <td>0.0</td>\n",
       "      <td>0.0</td>\n",
       "      <td>1.0</td>\n",
       "      <td>0.0</td>\n",
       "      <td>0.0</td>\n",
       "      <td>0.0</td>\n",
       "      <td>0.0</td>\n",
       "      <td>0.0</td>\n",
       "      <td>1.0</td>\n",
       "      <td>...</td>\n",
       "      <td>0.0</td>\n",
       "      <td>1.0</td>\n",
       "      <td>1.0</td>\n",
       "      <td>0.0</td>\n",
       "      <td>0.0</td>\n",
       "      <td>0.0</td>\n",
       "      <td>0.0</td>\n",
       "      <td>0.0</td>\n",
       "      <td>0.0</td>\n",
       "      <td>0.0</td>\n",
       "    </tr>\n",
       "  </tbody>\n",
       "</table>\n",
       "<p>4 rows × 1382 columns</p>\n",
       "</div>"
      ],
      "text/plain": [
       "Entreprise           10x Genomics  1871  23andMe  2M Research Services  \\\n",
       "Metier                                                                   \n",
       "Data architecte               1.0   1.0      0.0                   1.0   \n",
       "Data engineer                 1.0   1.0      0.0                   1.0   \n",
       "Data scientist                1.0   1.0     15.0                   1.0   \n",
       "Lead data scientist           1.0   0.0      0.0                   1.0   \n",
       "\n",
       "Entreprise           3Q Digital  605  7Park Data  84.51°  A+E Networks  \\\n",
       "Metier                                                                   \n",
       "Data architecte             0.0  0.0         0.0     3.0           0.0   \n",
       "Data engineer               0.0  0.0         0.0     3.0           0.0   \n",
       "Data scientist              1.0  1.0         1.0     3.0           1.0   \n",
       "Lead data scientist         0.0  0.0         0.0     0.0           0.0   \n",
       "\n",
       "Entreprise           A-Line Staffing  ...  exp  fractalanalytics  h2o.ai  \\\n",
       "Metier                                ...                                  \n",
       "Data architecte                  1.0  ...  1.0               1.0     1.0   \n",
       "Data engineer                    1.0  ...  1.0               1.0     1.0   \n",
       "Data scientist                   1.0  ...  1.0               2.0     7.0   \n",
       "Lead data scientist              1.0  ...  0.0               1.0     1.0   \n",
       "\n",
       "Entreprise           iHeartMedia, Inc.  raag solutions  thoughtmatrix  \\\n",
       "Metier                                                                  \n",
       "Data architecte                    0.0             1.0            0.0   \n",
       "Data engineer                      1.0             1.0            0.0   \n",
       "Data scientist                     1.0             1.0            1.0   \n",
       "Lead data scientist                0.0             0.0            0.0   \n",
       "\n",
       "Entreprise           true[x]  xentity corporation  Øptimus Consulting   쿠팡  \n",
       "Metier                                                                      \n",
       "Data architecte          0.0                  5.0                 1.0  0.0  \n",
       "Data engineer            1.0                  5.0                 1.0  0.0  \n",
       "Data scientist           1.0                  5.0                 1.0  2.0  \n",
       "Lead data scientist      0.0                  0.0                 0.0  0.0  \n",
       "\n",
       "[4 rows x 1382 columns]"
      ]
     },
     "execution_count": 78,
     "metadata": {},
     "output_type": "execute_result"
    }
   ],
   "source": [
    "# etudier lien variable categorielle avec la colonne a predire\n",
    "company = df.pivot_table(\n",
    "    index=\"Metier\",\n",
    "    columns=\"Entreprise\",\n",
    "    values=None,\n",
    "    aggfunc=\"count\").Ville.fillna(0)\n",
    "\n",
    "company"
   ]
  },
  {
   "cell_type": "code",
   "execution_count": 81,
   "metadata": {},
   "outputs": [
    {
     "data": {
      "text/plain": [
       "315"
      ]
     },
     "execution_count": 81,
     "metadata": {},
     "output_type": "execute_result"
    }
   ],
   "source": [
    "companyOfInterestList = []\n",
    "for comp in company.columns:\n",
    "    if (company[comp] == company.loc['Data engineer', comp]).all():\n",
    "        companyOfInterestList.append(comp)\n",
    "        \n",
    "len(companyOfInterestList)"
   ]
  },
  {
   "cell_type": "code",
   "execution_count": 26,
   "metadata": {},
   "outputs": [
    {
     "data": {
      "text/plain": [
       "14"
      ]
     },
     "execution_count": 26,
     "metadata": {},
     "output_type": "execute_result"
    }
   ],
   "source": [
    "df.Ville.unique().size"
   ]
  },
  {
   "cell_type": "code",
   "execution_count": 48,
   "metadata": {},
   "outputs": [
    {
     "data": {
      "text/html": [
       "<div>\n",
       "<style scoped>\n",
       "    .dataframe tbody tr th:only-of-type {\n",
       "        vertical-align: middle;\n",
       "    }\n",
       "\n",
       "    .dataframe tbody tr th {\n",
       "        vertical-align: top;\n",
       "    }\n",
       "\n",
       "    .dataframe thead th {\n",
       "        text-align: right;\n",
       "    }\n",
       "</style>\n",
       "<table border=\"1\" class=\"dataframe\">\n",
       "  <thead>\n",
       "    <tr style=\"text-align: right;\">\n",
       "      <th>Ville</th>\n",
       "      <th>Bordeaux</th>\n",
       "      <th>Grenoble</th>\n",
       "      <th>Lille</th>\n",
       "      <th>Lyon</th>\n",
       "      <th>Marseille</th>\n",
       "      <th>Montpellier</th>\n",
       "      <th>Nantes</th>\n",
       "      <th>Nice</th>\n",
       "      <th>Paris</th>\n",
       "      <th>Rennes</th>\n",
       "      <th>Rouen</th>\n",
       "      <th>Strasbourg</th>\n",
       "      <th>Toulon</th>\n",
       "      <th>Toulouse</th>\n",
       "    </tr>\n",
       "    <tr>\n",
       "      <th>Metier</th>\n",
       "      <th></th>\n",
       "      <th></th>\n",
       "      <th></th>\n",
       "      <th></th>\n",
       "      <th></th>\n",
       "      <th></th>\n",
       "      <th></th>\n",
       "      <th></th>\n",
       "      <th></th>\n",
       "      <th></th>\n",
       "      <th></th>\n",
       "      <th></th>\n",
       "      <th></th>\n",
       "      <th></th>\n",
       "    </tr>\n",
       "  </thead>\n",
       "  <tbody>\n",
       "    <tr>\n",
       "      <th>Data architecte</th>\n",
       "      <td>149</td>\n",
       "      <td>24</td>\n",
       "      <td>173</td>\n",
       "      <td>413</td>\n",
       "      <td>351</td>\n",
       "      <td>22</td>\n",
       "      <td>77</td>\n",
       "      <td>40</td>\n",
       "      <td>434</td>\n",
       "      <td>75</td>\n",
       "      <td>59</td>\n",
       "      <td>82</td>\n",
       "      <td>38</td>\n",
       "      <td>186</td>\n",
       "    </tr>\n",
       "    <tr>\n",
       "      <th>Data engineer</th>\n",
       "      <td>181</td>\n",
       "      <td>22</td>\n",
       "      <td>200</td>\n",
       "      <td>418</td>\n",
       "      <td>421</td>\n",
       "      <td>22</td>\n",
       "      <td>90</td>\n",
       "      <td>50</td>\n",
       "      <td>450</td>\n",
       "      <td>91</td>\n",
       "      <td>76</td>\n",
       "      <td>63</td>\n",
       "      <td>41</td>\n",
       "      <td>222</td>\n",
       "    </tr>\n",
       "    <tr>\n",
       "      <th>Data scientist</th>\n",
       "      <td>268</td>\n",
       "      <td>48</td>\n",
       "      <td>306</td>\n",
       "      <td>707</td>\n",
       "      <td>586</td>\n",
       "      <td>37</td>\n",
       "      <td>133</td>\n",
       "      <td>73</td>\n",
       "      <td>867</td>\n",
       "      <td>142</td>\n",
       "      <td>140</td>\n",
       "      <td>128</td>\n",
       "      <td>78</td>\n",
       "      <td>352</td>\n",
       "    </tr>\n",
       "    <tr>\n",
       "      <th>Lead data scientist</th>\n",
       "      <td>92</td>\n",
       "      <td>4</td>\n",
       "      <td>92</td>\n",
       "      <td>237</td>\n",
       "      <td>187</td>\n",
       "      <td>6</td>\n",
       "      <td>65</td>\n",
       "      <td>20</td>\n",
       "      <td>260</td>\n",
       "      <td>51</td>\n",
       "      <td>40</td>\n",
       "      <td>36</td>\n",
       "      <td>29</td>\n",
       "      <td>109</td>\n",
       "    </tr>\n",
       "  </tbody>\n",
       "</table>\n",
       "</div>"
      ],
      "text/plain": [
       "Ville                Bordeaux  Grenoble  Lille  Lyon  Marseille  Montpellier  \\\n",
       "Metier                                                                         \n",
       "Data architecte           149        24    173   413        351           22   \n",
       "Data engineer             181        22    200   418        421           22   \n",
       "Data scientist            268        48    306   707        586           37   \n",
       "Lead data scientist        92         4     92   237        187            6   \n",
       "\n",
       "Ville                Nantes  Nice  Paris  Rennes  Rouen  Strasbourg  Toulon  \\\n",
       "Metier                                                                        \n",
       "Data architecte          77    40    434      75     59          82      38   \n",
       "Data engineer            90    50    450      91     76          63      41   \n",
       "Data scientist          133    73    867     142    140         128      78   \n",
       "Lead data scientist      65    20    260      51     40          36      29   \n",
       "\n",
       "Ville                Toulouse  \n",
       "Metier                         \n",
       "Data architecte           186  \n",
       "Data engineer             222  \n",
       "Data scientist            352  \n",
       "Lead data scientist       109  "
      ]
     },
     "execution_count": 48,
     "metadata": {},
     "output_type": "execute_result"
    }
   ],
   "source": [
    "df.pivot_table(\n",
    "    index=\"Metier\",\n",
    "    columns=\"Ville\",\n",
    "    values=None,\n",
    "    aggfunc=\"count\").Diplome.fillna(0)"
   ]
  },
  {
   "cell_type": "code",
   "execution_count": 27,
   "metadata": {},
   "outputs": [
    {
     "data": {
      "text/plain": [
       "array(['Master', 'Phd', 'Bachelor', 'No diploma'], dtype=object)"
      ]
     },
     "execution_count": 27,
     "metadata": {},
     "output_type": "execute_result"
    }
   ],
   "source": [
    "df.Diplome.unique()"
   ]
  },
  {
   "cell_type": "code",
   "execution_count": 50,
   "metadata": {},
   "outputs": [
    {
     "data": {
      "text/html": [
       "<div>\n",
       "<style scoped>\n",
       "    .dataframe tbody tr th:only-of-type {\n",
       "        vertical-align: middle;\n",
       "    }\n",
       "\n",
       "    .dataframe tbody tr th {\n",
       "        vertical-align: top;\n",
       "    }\n",
       "\n",
       "    .dataframe thead th {\n",
       "        text-align: right;\n",
       "    }\n",
       "</style>\n",
       "<table border=\"1\" class=\"dataframe\">\n",
       "  <thead>\n",
       "    <tr style=\"text-align: right;\">\n",
       "      <th>Diplome</th>\n",
       "      <th>Bachelor</th>\n",
       "      <th>Master</th>\n",
       "      <th>No diploma</th>\n",
       "      <th>Phd</th>\n",
       "    </tr>\n",
       "    <tr>\n",
       "      <th>Metier</th>\n",
       "      <th></th>\n",
       "      <th></th>\n",
       "      <th></th>\n",
       "      <th></th>\n",
       "    </tr>\n",
       "  </thead>\n",
       "  <tbody>\n",
       "    <tr>\n",
       "      <th>Data architecte</th>\n",
       "      <td>425</td>\n",
       "      <td>1060</td>\n",
       "      <td>407</td>\n",
       "      <td>227</td>\n",
       "    </tr>\n",
       "    <tr>\n",
       "      <th>Data engineer</th>\n",
       "      <td>326</td>\n",
       "      <td>1273</td>\n",
       "      <td>445</td>\n",
       "      <td>299</td>\n",
       "    </tr>\n",
       "    <tr>\n",
       "      <th>Data scientist</th>\n",
       "      <td>437</td>\n",
       "      <td>1893</td>\n",
       "      <td>81</td>\n",
       "      <td>1449</td>\n",
       "    </tr>\n",
       "    <tr>\n",
       "      <th>Lead data scientist</th>\n",
       "      <td>199</td>\n",
       "      <td>726</td>\n",
       "      <td>24</td>\n",
       "      <td>275</td>\n",
       "    </tr>\n",
       "  </tbody>\n",
       "</table>\n",
       "</div>"
      ],
      "text/plain": [
       "Diplome              Bachelor  Master  No diploma   Phd\n",
       "Metier                                                 \n",
       "Data architecte           425    1060         407   227\n",
       "Data engineer             326    1273         445   299\n",
       "Data scientist            437    1893          81  1449\n",
       "Lead data scientist       199     726          24   275"
      ]
     },
     "execution_count": 50,
     "metadata": {},
     "output_type": "execute_result"
    }
   ],
   "source": [
    "df.pivot_table(\n",
    "    index=\"Metier\",\n",
    "    columns=\"Diplome\",\n",
    "    values=None,\n",
    "    aggfunc=\"count\").Entreprise.fillna(0)"
   ]
  },
  {
   "cell_type": "code",
   "execution_count": 42,
   "metadata": {},
   "outputs": [
    {
     "data": {
      "text/plain": [
       "['PostgreSQL', 'Deep', 'Tableau', 'Java', 'R']"
      ]
     },
     "execution_count": 42,
     "metadata": {},
     "output_type": "execute_result"
    }
   ],
   "source": [
    "list(set(df.Technologies.str.replace('/', ' ').str.split().explode()))[:5]\n",
    "\n"
   ]
  },
  {
   "cell_type": "code",
   "execution_count": 9,
   "metadata": {},
   "outputs": [],
   "source": [
    "from sklearn.preprocessing import FunctionTransformer\n",
    "from sklearn.preprocessing import LabelEncoder, OneHotEncoder\n",
    "from sklearn.pipeline import Pipeline\n",
    "from sklearn.compose import ColumnTransformer\n",
    "\n",
    "df = pd.read_csv('data/data.csv')\n",
    "df.Experience = df.Experience.str.replace(',', '.').astype(float)\n",
    "\n",
    "technologies = list(set(\n",
    "    df.Technologies.str.replace('/', ' ').str.split().explode()))\n",
    "\n",
    "firstQuartile = np.percentile(df.Experience.dropna(), q=25)\n",
    "median = np.percentile(df.Experience.dropna(), q=50)\n",
    "secondQuartile = np.percentile(df.Experience.dropna(), q=75)\n",
    "\n",
    "company = df.pivot_table(\n",
    "    index=\"Metier\",\n",
    "    columns=\"Entreprise\",\n",
    "    values=None,\n",
    "    aggfunc=\"count\").Ville.fillna(0)\n",
    "companyOfInterestList = []\n",
    "for comp in company.columns:\n",
    "    if (company[comp] == company.loc['Data engineer', comp]).all():\n",
    "        companyOfInterestList.append(comp)\n",
    "\n",
    "\n",
    "def labellizer(x: pd.DataFrame) -> pd.DataFrame:\n",
    "    \"\"\"\n",
    "    This function returns a LabelEncoder with the right format for \n",
    "    ColumnTransformer.\n",
    "\n",
    "    Args:\n",
    "        x (pd.DataFrame): a Dataset of a categorical column.\n",
    "\n",
    "    Returns:\n",
    "        pd.DataFrame: a Dataset of a numerical column.\n",
    "    \"\"\"\n",
    "    return pd.DataFrame(LabelEncoder().fit_transform(x))\n",
    "\n",
    "def tech_labellizer(x: pd.DataFrame) -> pd.DataFrame:\n",
    "    \"\"\"\n",
    "    This function returns a OneHotEncoder of the column Technologies \n",
    "    after cleaning the raw textual informations.\n",
    "\n",
    "    Args:\n",
    "        x (pd.DataFrame): a Dataset of Technologie colomn, a categorical\n",
    "        column.\n",
    "\n",
    "    Returns:\n",
    "        pd.DataFrame: a Dataset with as many columns as technologies \n",
    "        with 1 if known by the worker and 0 else.\n",
    "    \"\"\"\n",
    "    new = pd.DataFrame(0, columns=technologies, index=df.index)\n",
    "    for skills in pd.DataFrame(x).itertuples():\n",
    "        for techno in technologies:\n",
    "            if techno in skills.Technologies:\n",
    "                new.loc[skills.Index, techno] = 1\n",
    "    return new\n",
    "\n",
    "\n",
    "def diploma_labellizer(x: pd.DataFrame) -> pd.DataFrame:\n",
    "    \"\"\"\n",
    "    This function returns an ordened LabelEncoder of the column\n",
    "    Diplome.\n",
    "\n",
    "    Args:\n",
    "        x (pd.DataFrame): a Dataset of Diploma colomn, a categorical column.\n",
    "\n",
    "    Returns:\n",
    "        pd.DataFrame: a Dataset of an ordinal column (low to high).\n",
    "    \"\"\"\n",
    "    x = x.Diplome\n",
    "    def helper_function(y: str) -> int:\n",
    "        if y == 'No diploma':\n",
    "            return 0\n",
    "        if y == 'Bachelor':\n",
    "            return 1\n",
    "        if y == 'Master':\n",
    "            return 2\n",
    "        else:\n",
    "            return 3\n",
    "    return pd.DataFrame(x.apply(lambda z: helper_function(z)))\n",
    "\n",
    "\n",
    "def exp_labellizer(x: pd.DataFrame) -> pd.DataFrame:\n",
    "    \"\"\"\n",
    "    This function returns an ordened LabelEncoder of the column\n",
    "    Experience.\n",
    "\n",
    "    Args:\n",
    "        x (pd.DataFrame): a Dataset of Experience colomn, a categorical\n",
    "        column.\n",
    "\n",
    "    Returns:\n",
    "        pd.DataFrame: a Dataset of an ordinal column (low to high).\n",
    "    \"\"\"\n",
    "    x = x.Experience.str.replace(',', '.').astype(float)\n",
    "    def helper_function(y: float) -> int:\n",
    "        if y < firstQuartile:\n",
    "            return 0 #\"débutant\"\n",
    "        elif y < median:\n",
    "            return 1 #\"confirmé\"\n",
    "        elif y < secondQuartile:\n",
    "            return 2 #\"avancé\"\n",
    "        else:\n",
    "            return 3 #\"expert\"\n",
    "    \n",
    "#    return pd.DataFrame(x.apply(helper_function))\n",
    "    return OneHotEncoder().fit_transform(x.apply(helper_function))\n",
    "\n",
    "\n",
    "def comp_labellizer(x: pd.DataFrame) -> pd.DataFrame:\n",
    "    \"\"\"\n",
    "    This function returns a OneHotEncoder of the column Entreprise \n",
    "    after cleaning the list of entreprise that matters, which means\n",
    "    the only where the number of workers in each fields is different \n",
    "    and not always the same.\n",
    "\n",
    "    Args:\n",
    "        x (pd.DataFrame): a Dataset of Entreprise colomn, a categorical\n",
    "        columns.\n",
    "\n",
    "    Returns:\n",
    "        pd.DataFrame: a Dataset with as many columns as entreprise that\n",
    "        matters with 1 if the worker work in and 0 else.\n",
    "    \"\"\"\n",
    "    new = pd.DataFrame(0, columns=companyOfInterestList, index=df.index)\n",
    "    for company in pd.DataFrame(x).itertuples():\n",
    "        if company.Entreprise in companyOfInterestList:\n",
    "                new.loc[company.Index, company.Entreprise] = 1\n",
    "    return new\n",
    "\n",
    "\n",
    "preproc = ColumnTransformer(\n",
    "    transformers = [\n",
    "        #('Entreprise', FunctionTransformer(labellizer), ['Entreprise']),\n",
    "        ('Entreprise', FunctionTransformer(comp_labellizer), ['Entreprise']),\n",
    "        ('Techologies', FunctionTransformer(tech_labellizer), ['Technologies']),\n",
    "        ('Diplome', OneHotEncoder(), ['Diplome']),\n",
    "        #('Diplome', FunctionTransformer(diploma_labellizer), ['Diplome']),\n",
    "        ('Experience', FunctionTransformer(exp_labellizer), ['Experience']),\n",
    "        ('Ville', OneHotEncoder(), ['Ville']) \n",
    "        #('Ville', FunctionTransformer(labellizer), ['Ville'])\n",
    "        ]\n",
    "    )"
   ]
  },
  {
   "cell_type": "code",
   "execution_count": 106,
   "metadata": {},
   "outputs": [
    {
     "data": {
      "text/plain": [
       "array([1075,  797,  401, ...,  157, 1177, 1300])"
      ]
     },
     "execution_count": 106,
     "metadata": {},
     "output_type": "execute_result"
    }
   ],
   "source": [
    "LabelEncoder().fit_transform(df.Entreprise)"
   ]
  },
  {
   "cell_type": "code",
   "execution_count": 107,
   "metadata": {},
   "outputs": [
    {
     "data": {
      "text/html": [
       "<div>\n",
       "<style scoped>\n",
       "    .dataframe tbody tr th:only-of-type {\n",
       "        vertical-align: middle;\n",
       "    }\n",
       "\n",
       "    .dataframe tbody tr th {\n",
       "        vertical-align: top;\n",
       "    }\n",
       "\n",
       "    .dataframe thead th {\n",
       "        text-align: right;\n",
       "    }\n",
       "</style>\n",
       "<table border=\"1\" class=\"dataframe\">\n",
       "  <thead>\n",
       "    <tr style=\"text-align: right;\">\n",
       "      <th></th>\n",
       "      <th>PostgreSQL</th>\n",
       "      <th>Deep</th>\n",
       "      <th>Tableau</th>\n",
       "      <th>Java</th>\n",
       "      <th>R</th>\n",
       "      <th>C</th>\n",
       "      <th>Perl</th>\n",
       "      <th>Docker</th>\n",
       "      <th>Vertica</th>\n",
       "      <th>Map-Reduce</th>\n",
       "      <th>...</th>\n",
       "      <th>HDFS</th>\n",
       "      <th>Scala</th>\n",
       "      <th>Machine</th>\n",
       "      <th>Teradata</th>\n",
       "      <th>Cassandra</th>\n",
       "      <th>SPSS</th>\n",
       "      <th>MySQL</th>\n",
       "      <th>Hive</th>\n",
       "      <th>MariaDB</th>\n",
       "      <th>Big</th>\n",
       "    </tr>\n",
       "  </thead>\n",
       "  <tbody>\n",
       "    <tr>\n",
       "      <th>0</th>\n",
       "      <td>0</td>\n",
       "      <td>0</td>\n",
       "      <td>0</td>\n",
       "      <td>0</td>\n",
       "      <td>0</td>\n",
       "      <td>0</td>\n",
       "      <td>0</td>\n",
       "      <td>0</td>\n",
       "      <td>0</td>\n",
       "      <td>0</td>\n",
       "      <td>...</td>\n",
       "      <td>0</td>\n",
       "      <td>0</td>\n",
       "      <td>0</td>\n",
       "      <td>0</td>\n",
       "      <td>0</td>\n",
       "      <td>0</td>\n",
       "      <td>0</td>\n",
       "      <td>0</td>\n",
       "      <td>0</td>\n",
       "      <td>0</td>\n",
       "    </tr>\n",
       "    <tr>\n",
       "      <th>1</th>\n",
       "      <td>0</td>\n",
       "      <td>0</td>\n",
       "      <td>0</td>\n",
       "      <td>1</td>\n",
       "      <td>0</td>\n",
       "      <td>0</td>\n",
       "      <td>0</td>\n",
       "      <td>0</td>\n",
       "      <td>0</td>\n",
       "      <td>0</td>\n",
       "      <td>...</td>\n",
       "      <td>0</td>\n",
       "      <td>1</td>\n",
       "      <td>0</td>\n",
       "      <td>0</td>\n",
       "      <td>0</td>\n",
       "      <td>0</td>\n",
       "      <td>0</td>\n",
       "      <td>0</td>\n",
       "      <td>0</td>\n",
       "      <td>0</td>\n",
       "    </tr>\n",
       "    <tr>\n",
       "      <th>2</th>\n",
       "      <td>0</td>\n",
       "      <td>0</td>\n",
       "      <td>0</td>\n",
       "      <td>0</td>\n",
       "      <td>1</td>\n",
       "      <td>0</td>\n",
       "      <td>0</td>\n",
       "      <td>0</td>\n",
       "      <td>0</td>\n",
       "      <td>0</td>\n",
       "      <td>...</td>\n",
       "      <td>0</td>\n",
       "      <td>0</td>\n",
       "      <td>0</td>\n",
       "      <td>1</td>\n",
       "      <td>0</td>\n",
       "      <td>1</td>\n",
       "      <td>0</td>\n",
       "      <td>0</td>\n",
       "      <td>0</td>\n",
       "      <td>0</td>\n",
       "    </tr>\n",
       "    <tr>\n",
       "      <th>3</th>\n",
       "      <td>0</td>\n",
       "      <td>0</td>\n",
       "      <td>0</td>\n",
       "      <td>1</td>\n",
       "      <td>0</td>\n",
       "      <td>1</td>\n",
       "      <td>0</td>\n",
       "      <td>0</td>\n",
       "      <td>0</td>\n",
       "      <td>0</td>\n",
       "      <td>...</td>\n",
       "      <td>0</td>\n",
       "      <td>0</td>\n",
       "      <td>0</td>\n",
       "      <td>0</td>\n",
       "      <td>0</td>\n",
       "      <td>0</td>\n",
       "      <td>0</td>\n",
       "      <td>0</td>\n",
       "      <td>0</td>\n",
       "      <td>0</td>\n",
       "    </tr>\n",
       "    <tr>\n",
       "      <th>4</th>\n",
       "      <td>0</td>\n",
       "      <td>0</td>\n",
       "      <td>0</td>\n",
       "      <td>0</td>\n",
       "      <td>0</td>\n",
       "      <td>1</td>\n",
       "      <td>0</td>\n",
       "      <td>0</td>\n",
       "      <td>0</td>\n",
       "      <td>0</td>\n",
       "      <td>...</td>\n",
       "      <td>0</td>\n",
       "      <td>0</td>\n",
       "      <td>0</td>\n",
       "      <td>0</td>\n",
       "      <td>0</td>\n",
       "      <td>0</td>\n",
       "      <td>0</td>\n",
       "      <td>0</td>\n",
       "      <td>0</td>\n",
       "      <td>0</td>\n",
       "    </tr>\n",
       "  </tbody>\n",
       "</table>\n",
       "<p>5 rows × 63 columns</p>\n",
       "</div>"
      ],
      "text/plain": [
       "   PostgreSQL  Deep  Tableau  Java  R  C  Perl  Docker  Vertica  Map-Reduce  \\\n",
       "0           0     0        0     0  0  0     0       0        0           0   \n",
       "1           0     0        0     1  0  0     0       0        0           0   \n",
       "2           0     0        0     0  1  0     0       0        0           0   \n",
       "3           0     0        0     1  0  1     0       0        0           0   \n",
       "4           0     0        0     0  0  1     0       0        0           0   \n",
       "\n",
       "   ...  HDFS  Scala  Machine  Teradata  Cassandra  SPSS  MySQL  Hive  MariaDB  \\\n",
       "0  ...     0      0        0         0          0     0      0     0        0   \n",
       "1  ...     0      1        0         0          0     0      0     0        0   \n",
       "2  ...     0      0        0         1          0     1      0     0        0   \n",
       "3  ...     0      0        0         0          0     0      0     0        0   \n",
       "4  ...     0      0        0         0          0     0      0     0        0   \n",
       "\n",
       "   Big  \n",
       "0    0  \n",
       "1    0  \n",
       "2    0  \n",
       "3    0  \n",
       "4    0  \n",
       "\n",
       "[5 rows x 63 columns]"
      ]
     },
     "execution_count": 107,
     "metadata": {},
     "output_type": "execute_result"
    }
   ],
   "source": [
    "tech_labellizer(df.Technologies).head()"
   ]
  },
  {
   "cell_type": "code",
   "execution_count": 108,
   "metadata": {},
   "outputs": [
    {
     "data": {
      "text/html": [
       "<div>\n",
       "<style scoped>\n",
       "    .dataframe tbody tr th:only-of-type {\n",
       "        vertical-align: middle;\n",
       "    }\n",
       "\n",
       "    .dataframe tbody tr th {\n",
       "        vertical-align: top;\n",
       "    }\n",
       "\n",
       "    .dataframe thead th {\n",
       "        text-align: right;\n",
       "    }\n",
       "</style>\n",
       "<table border=\"1\" class=\"dataframe\">\n",
       "  <thead>\n",
       "    <tr style=\"text-align: right;\">\n",
       "      <th></th>\n",
       "      <th>Entreprise</th>\n",
       "      <th>Technologies</th>\n",
       "      <th>Diplome</th>\n",
       "      <th>Experience</th>\n",
       "      <th>Ville</th>\n",
       "    </tr>\n",
       "  </thead>\n",
       "  <tbody>\n",
       "    <tr>\n",
       "      <th>0</th>\n",
       "      <td>Sanofi</td>\n",
       "      <td>Matlab/Python/Pyspark/Scikit-learn/Tensorflow</td>\n",
       "      <td>Master</td>\n",
       "      <td>1</td>\n",
       "      <td>Paris</td>\n",
       "    </tr>\n",
       "    <tr>\n",
       "      <th>1</th>\n",
       "      <td>Massachusetts General Hospital(MGH)</td>\n",
       "      <td>Python/Java/Scala/MongoDB</td>\n",
       "      <td>Master</td>\n",
       "      <td>3</td>\n",
       "      <td>Marseille</td>\n",
       "    </tr>\n",
       "    <tr>\n",
       "      <th>2</th>\n",
       "      <td>Delve</td>\n",
       "      <td>SPSS/SQL/Teradata/R/Python/Tensorflow/scikit-l...</td>\n",
       "      <td>Master</td>\n",
       "      <td>3</td>\n",
       "      <td>Nantes</td>\n",
       "    </tr>\n",
       "    <tr>\n",
       "      <th>3</th>\n",
       "      <td>Ann &amp; Robert H. Lurie Children’s Hospital of C...</td>\n",
       "      <td>C/C++/Java/Python</td>\n",
       "      <td>Master</td>\n",
       "      <td>1,5</td>\n",
       "      <td>Marseille</td>\n",
       "    </tr>\n",
       "    <tr>\n",
       "      <th>4</th>\n",
       "      <td>Arm</td>\n",
       "      <td>Matlab/Python/C++/numpy/Tensorflow/scikit-learn</td>\n",
       "      <td>Phd</td>\n",
       "      <td>NaN</td>\n",
       "      <td>Bordeaux</td>\n",
       "    </tr>\n",
       "  </tbody>\n",
       "</table>\n",
       "</div>"
      ],
      "text/plain": [
       "                                          Entreprise  \\\n",
       "0                                             Sanofi   \n",
       "1                Massachusetts General Hospital(MGH)   \n",
       "2                                              Delve   \n",
       "3  Ann & Robert H. Lurie Children’s Hospital of C...   \n",
       "4                                                Arm   \n",
       "\n",
       "                                        Technologies Diplome Experience  \\\n",
       "0      Matlab/Python/Pyspark/Scikit-learn/Tensorflow  Master          1   \n",
       "1                          Python/Java/Scala/MongoDB  Master          3   \n",
       "2  SPSS/SQL/Teradata/R/Python/Tensorflow/scikit-l...  Master          3   \n",
       "3                                  C/C++/Java/Python  Master        1,5   \n",
       "4    Matlab/Python/C++/numpy/Tensorflow/scikit-learn     Phd        NaN   \n",
       "\n",
       "       Ville  \n",
       "0      Paris  \n",
       "1  Marseille  \n",
       "2     Nantes  \n",
       "3  Marseille  \n",
       "4   Bordeaux  "
      ]
     },
     "execution_count": 108,
     "metadata": {},
     "output_type": "execute_result"
    }
   ],
   "source": [
    "df = pd.read_csv('data/data.csv')\n",
    "\n",
    "X = df.drop('Metier', inplace=False, axis=1)\n",
    "y = df.Metier\n",
    "\n",
    "X.head()"
   ]
  },
  {
   "cell_type": "code",
   "execution_count": null,
   "metadata": {},
   "outputs": [],
   "source": [
    "columns = ['Entreprise']\n",
    "columns.extend(list(set(\n",
    "    df.Technologies.str.replace('/', ' ').str.split().explode())))\n",
    "columns.extend(['Diplome', 'Experience', 'Ville'])\n",
    "pd.DataFrame(preproc.fit_transform(X), columns=columns).head()"
   ]
  },
  {
   "cell_type": "code",
   "execution_count": 109,
   "metadata": {},
   "outputs": [
    {
     "data": {
      "text/plain": [
       "array([0, 2, 1, ..., 3, 3, 3], dtype=int32)"
      ]
     },
     "execution_count": 109,
     "metadata": {},
     "output_type": "execute_result"
    }
   ],
   "source": [
    "from sklearn.cluster import KMeans\n",
    "\n",
    "pl = Pipeline([\n",
    "    ('preprocessor', preproc), \n",
    "    ('kmeans', KMeans(n_clusters=4))\n",
    "])\n",
    "    \n",
    "pl.fit(X)\n",
    "pl.predict(X)"
   ]
  },
  {
   "cell_type": "code",
   "execution_count": 110,
   "metadata": {},
   "outputs": [
    {
     "data": {
      "text/html": [
       "<div>\n",
       "<style scoped>\n",
       "    .dataframe tbody tr th:only-of-type {\n",
       "        vertical-align: middle;\n",
       "    }\n",
       "\n",
       "    .dataframe tbody tr th {\n",
       "        vertical-align: top;\n",
       "    }\n",
       "\n",
       "    .dataframe thead th {\n",
       "        text-align: right;\n",
       "    }\n",
       "</style>\n",
       "<table border=\"1\" class=\"dataframe\">\n",
       "  <thead>\n",
       "    <tr style=\"text-align: right;\">\n",
       "      <th>Metier</th>\n",
       "      <th>Data architecte</th>\n",
       "      <th>Data engineer</th>\n",
       "      <th>Data scientist</th>\n",
       "      <th>Lead data scientist</th>\n",
       "    </tr>\n",
       "    <tr>\n",
       "      <th>Predictions</th>\n",
       "      <th></th>\n",
       "      <th></th>\n",
       "      <th></th>\n",
       "      <th></th>\n",
       "    </tr>\n",
       "  </thead>\n",
       "  <tbody>\n",
       "    <tr>\n",
       "      <th>0</th>\n",
       "      <td>90.0</td>\n",
       "      <td>357.0</td>\n",
       "      <td>811.0</td>\n",
       "      <td>174.0</td>\n",
       "    </tr>\n",
       "    <tr>\n",
       "      <th>1</th>\n",
       "      <td>0.0</td>\n",
       "      <td>0.0</td>\n",
       "      <td>1776.0</td>\n",
       "      <td>787.0</td>\n",
       "    </tr>\n",
       "    <tr>\n",
       "      <th>2</th>\n",
       "      <td>2029.0</td>\n",
       "      <td>1986.0</td>\n",
       "      <td>0.0</td>\n",
       "      <td>0.0</td>\n",
       "    </tr>\n",
       "    <tr>\n",
       "      <th>3</th>\n",
       "      <td>0.0</td>\n",
       "      <td>0.0</td>\n",
       "      <td>1273.0</td>\n",
       "      <td>263.0</td>\n",
       "    </tr>\n",
       "  </tbody>\n",
       "</table>\n",
       "</div>"
      ],
      "text/plain": [
       "Metier       Data architecte  Data engineer  Data scientist  \\\n",
       "Predictions                                                   \n",
       "0                       90.0          357.0           811.0   \n",
       "1                        0.0            0.0          1776.0   \n",
       "2                     2029.0         1986.0             0.0   \n",
       "3                        0.0            0.0          1273.0   \n",
       "\n",
       "Metier       Lead data scientist  \n",
       "Predictions                       \n",
       "0                          174.0  \n",
       "1                          787.0  \n",
       "2                            0.0  \n",
       "3                          263.0  "
      ]
     },
     "execution_count": 110,
     "metadata": {},
     "output_type": "execute_result"
    }
   ],
   "source": [
    "new = df.copy()\n",
    "new['Predictions'] = pl.predict(X)\n",
    "new.pivot_table(\n",
    "    index=\"Predictions\",\n",
    "    columns=\"Metier\",\n",
    "    values=None,\n",
    "    aggfunc=\"count\").Entreprise.fillna(0)"
   ]
  },
  {
   "attachments": {},
   "cell_type": "markdown",
   "metadata": {},
   "source": [
    "## Explication \n",
    "\n",
    "**Nombre de cluster**: 4, parce qu'on souhaite déterminer 4 métiers différents.\n",
    "\n",
    "- With LabelEncoder: 45.575%\n",
    "- With OneHotEncoder: 46.086%\n",
    "- With EntrepriseEncoder: 43.399%\n",
    "\n",
    "**Métrique**: classification binaire, \n",
    "\n",
    "ie, on choisit les labels 0, 1, 2 et 3 de façon à optimiser le score qui consiste à faire la compte des prédictions correctes divisée par le nombre de prédiction. Les scores sont plutôt bon comparé à un modèle qui predirait de manière aléatoire ou en choisissant toujours le même (25% en moyenne).\n",
    "\n",
    "**Obsvervation**: \n",
    "\n",
    "la classification nonsupervisée arrive déjà à faire la distinction entre deux groupe: data architecte & data engineer (groupe 1), et data scientist et lead data scientist (groupe 2), à 89.345% (sera surement utilisé comme feature par la suite et cela est peut être du aux technologies et années d'expériences)"
   ]
  },
  {
   "cell_type": "code",
   "execution_count": 112,
   "metadata": {},
   "outputs": [
    {
     "name": "stdout",
     "output_type": "stream",
     "text": [
      "0.8934460446670841\n",
      "0.46399499060738886\n",
      "0.46180338134001253\n",
      "0.46086412022542267\n",
      "0.4557503652682112\n"
     ]
    }
   ],
   "source": [
    "print((2029.0+1986.0+90.0+357.0+1776.0+787.0+1273.0+263.0)/9582)\n",
    "print((2029+357+1273+787)/9582)\n",
    "print((2029+357+1776.0+263)/9582)\n",
    "print((773.0+1369.0+1097.0+1177.0)/9582)\n",
    "print((924.0+1807.0+879.0+757.0)/9582)"
   ]
  },
  {
   "attachments": {},
   "cell_type": "markdown",
   "metadata": {},
   "source": [
    "# Question 8:\n",
    "Réaliser la prédiction des métiers manquants dans la base de données par l'algorithme de votre choix  \n",
    "1. Justifier la performance de votre algorithme grâce à une métrique.  \n",
    "2. Interpréter votre résultat. "
   ]
  },
  {
   "cell_type": "code",
   "execution_count": 6,
   "metadata": {},
   "outputs": [
    {
     "data": {
      "text/html": [
       "<div>\n",
       "<style scoped>\n",
       "    .dataframe tbody tr th:only-of-type {\n",
       "        vertical-align: middle;\n",
       "    }\n",
       "\n",
       "    .dataframe tbody tr th {\n",
       "        vertical-align: top;\n",
       "    }\n",
       "\n",
       "    .dataframe thead th {\n",
       "        text-align: right;\n",
       "    }\n",
       "</style>\n",
       "<table border=\"1\" class=\"dataframe\">\n",
       "  <thead>\n",
       "    <tr style=\"text-align: right;\">\n",
       "      <th></th>\n",
       "      <th>Entreprise</th>\n",
       "      <th>Metier</th>\n",
       "      <th>Technologies</th>\n",
       "      <th>Diplome</th>\n",
       "      <th>Experience</th>\n",
       "      <th>Ville</th>\n",
       "    </tr>\n",
       "  </thead>\n",
       "  <tbody>\n",
       "    <tr>\n",
       "      <th>0</th>\n",
       "      <td>Sanofi</td>\n",
       "      <td>Data scientist</td>\n",
       "      <td>Matlab/Python/Pyspark/Scikit-learn/Tensorflow</td>\n",
       "      <td>Master</td>\n",
       "      <td>1</td>\n",
       "      <td>Paris</td>\n",
       "    </tr>\n",
       "    <tr>\n",
       "      <th>1</th>\n",
       "      <td>Massachusetts General Hospital(MGH)</td>\n",
       "      <td>Data architecte</td>\n",
       "      <td>Python/Java/Scala/MongoDB</td>\n",
       "      <td>Master</td>\n",
       "      <td>3</td>\n",
       "      <td>Marseille</td>\n",
       "    </tr>\n",
       "    <tr>\n",
       "      <th>2</th>\n",
       "      <td>Delve</td>\n",
       "      <td>Lead data scientist</td>\n",
       "      <td>SPSS/SQL/Teradata/R/Python/Tensorflow/scikit-l...</td>\n",
       "      <td>Master</td>\n",
       "      <td>3</td>\n",
       "      <td>Nantes</td>\n",
       "    </tr>\n",
       "    <tr>\n",
       "      <th>3</th>\n",
       "      <td>Ann &amp; Robert H. Lurie Children’s Hospital of C...</td>\n",
       "      <td>Data scientist</td>\n",
       "      <td>C/C++/Java/Python</td>\n",
       "      <td>Master</td>\n",
       "      <td>1,5</td>\n",
       "      <td>Marseille</td>\n",
       "    </tr>\n",
       "    <tr>\n",
       "      <th>4</th>\n",
       "      <td>Arm</td>\n",
       "      <td>Data scientist</td>\n",
       "      <td>Matlab/Python/C++/numpy/Tensorflow/scikit-learn</td>\n",
       "      <td>Phd</td>\n",
       "      <td>NaN</td>\n",
       "      <td>Bordeaux</td>\n",
       "    </tr>\n",
       "  </tbody>\n",
       "</table>\n",
       "</div>"
      ],
      "text/plain": [
       "                                          Entreprise               Metier  \\\n",
       "0                                             Sanofi       Data scientist   \n",
       "1                Massachusetts General Hospital(MGH)      Data architecte   \n",
       "2                                              Delve  Lead data scientist   \n",
       "3  Ann & Robert H. Lurie Children’s Hospital of C...       Data scientist   \n",
       "4                                                Arm       Data scientist   \n",
       "\n",
       "                                        Technologies Diplome Experience  \\\n",
       "0      Matlab/Python/Pyspark/Scikit-learn/Tensorflow  Master          1   \n",
       "1                          Python/Java/Scala/MongoDB  Master          3   \n",
       "2  SPSS/SQL/Teradata/R/Python/Tensorflow/scikit-l...  Master          3   \n",
       "3                                  C/C++/Java/Python  Master        1,5   \n",
       "4    Matlab/Python/C++/numpy/Tensorflow/scikit-learn     Phd        NaN   \n",
       "\n",
       "       Ville  \n",
       "0      Paris  \n",
       "1  Marseille  \n",
       "2     Nantes  \n",
       "3  Marseille  \n",
       "4   Bordeaux  "
      ]
     },
     "execution_count": 6,
     "metadata": {},
     "output_type": "execute_result"
    }
   ],
   "source": [
    "df.dropna(subset=['Metier']).head()"
   ]
  },
  {
   "cell_type": "code",
   "execution_count": 10,
   "metadata": {},
   "outputs": [],
   "source": [
    "from sklearn.model_selection import train_test_split\n",
    "\n",
    "\n",
    "df = pd.read_csv('data/data.csv')\n",
    "df.dropna(subset=['Metier'], inplace=True)\n",
    "experience = df.Experience.str.replace(',', '.').astype(float)\n",
    "\n",
    "columns = ['Entreprise', 'Technologies', 'Diplome', 'Experience', 'Ville'] \n",
    "X = df[columns]\n",
    "y = df.Metier\n",
    "\n",
    "X_train, X_test, y_train, y_test = train_test_split(\n",
    "    X, y, test_size=0.33, random_state=42)\n",
    "\n",
    "technologies = list(set(\n",
    "    df.Technologies.str.replace('/', ' ').str.split().explode()))\n",
    "\n",
    "firstQuartile = np.percentile(experience.dropna(), q=25)\n",
    "median = np.percentile(experience.dropna(), q=50)\n",
    "secondQuartile = np.percentile(experience.dropna(), q=75)\n",
    "\n",
    "company = df.pivot_table(\n",
    "    index=\"Metier\", columns=\"Entreprise\", values=None,\n",
    "    aggfunc=\"count\").Ville.fillna(0)\n",
    "companyOfInterestList = []\n",
    "for comp in company.columns:\n",
    "    if (company[comp] == company.loc['Data engineer', comp]).all():\n",
    "        companyOfInterestList.append(comp)\n",
    "        \n",
    "\n",
    "def tech_labellizer(x: pd.DataFrame) -> pd.DataFrame:\n",
    "    new = pd.DataFrame(0, columns=technologies, index=x.index)\n",
    "    for skills in pd.DataFrame(x).itertuples():\n",
    "        for techno in technologies:\n",
    "            if techno in skills.Technologies:\n",
    "                new.loc[skills.Index, techno] = 1\n",
    "    return new\n",
    "\n",
    "\n",
    "def exp_labellizer(x: pd.DataFrame) -> pd.DataFrame:\n",
    "    x = x.Experience.str.replace(',', '.').astype(float)\n",
    "    def helper_function(y: float) -> int:\n",
    "        if y < firstQuartile:\n",
    "            return 0 #\"débutant\"\n",
    "        elif y < median:\n",
    "            return 1 #\"confirmé\"\n",
    "        elif y < secondQuartile:\n",
    "            return 2 #\"avancé\"\n",
    "        elif y > secondQuartile:\n",
    "            return 3 #\"expert\"\n",
    "        else:\n",
    "            return 0\n",
    "    \n",
    "#    return pd.DataFrame(x.apply(helper_function))\n",
    "    return OneHotEncoder().fit_transform(pd.DataFrame(x.apply(helper_function)))\n",
    "\n",
    "\n",
    "def comp_labellizer(x: pd.DataFrame) -> pd.DataFrame:\n",
    "    new = pd.DataFrame(0, columns=companyOfInterestList, index=x.index)\n",
    "    for company in pd.DataFrame(x).itertuples():\n",
    "        if company.Entreprise in companyOfInterestList:\n",
    "                new.loc[company.Index, company.Entreprise] = 1\n",
    "    return new\n",
    "\n",
    "\n",
    "def kmeans_labellizer(x: pd.DataFrame) -> pd.DataFrame:\n",
    "    transformers = [\n",
    "        ('Entreprise', FunctionTransformer(comp_labellizer), ['Entreprise']),\n",
    "        ('Techologies', FunctionTransformer(tech_labellizer), ['Technologies']),\n",
    "        ('Diplome', OneHotEncoder(), ['Diplome']),\n",
    "        ('Experience', FunctionTransformer(exp_labellizer), ['Experience']),\n",
    "        ('Ville', OneHotEncoder(), ['Ville']) \n",
    "    ]\n",
    "    preproc = ColumnTransformer(transformers=transformers)\n",
    "    pl = Pipeline([\n",
    "        ('preprocessor', preproc), \n",
    "        ('kmeans', KMeans(n_clusters=2))\n",
    "    ])\n",
    "    pl.fit(x)\n",
    "    return pd.DataFrame(pl.predict(x))\n",
    "\n",
    "\n",
    "preproc = ColumnTransformer(\n",
    "    transformers = [\n",
    "        ('Entreprise', FunctionTransformer(comp_labellizer), ['Entreprise']),\n",
    "        ('Techologies', FunctionTransformer(tech_labellizer), ['Technologies']),\n",
    "        ('Diplome', OneHotEncoder(), ['Diplome']),\n",
    "        ('Experience', FunctionTransformer(exp_labellizer), ['Experience']),\n",
    "        ('Ville', OneHotEncoder(), ['Ville']), \n",
    "        #('EngineerVsScientist', FunctionTransformer(kmeans_labellizer), columns)\n",
    "        ]\n",
    "    )"
   ]
  },
  {
   "cell_type": "code",
   "execution_count": 11,
   "metadata": {},
   "outputs": [
    {
     "data": {
      "text/html": [
       "<div>\n",
       "<style scoped>\n",
       "    .dataframe tbody tr th:only-of-type {\n",
       "        vertical-align: middle;\n",
       "    }\n",
       "\n",
       "    .dataframe tbody tr th {\n",
       "        vertical-align: top;\n",
       "    }\n",
       "\n",
       "    .dataframe thead th {\n",
       "        text-align: right;\n",
       "    }\n",
       "</style>\n",
       "<table border=\"1\" class=\"dataframe\">\n",
       "  <thead>\n",
       "    <tr style=\"text-align: right;\">\n",
       "      <th></th>\n",
       "      <th>Entreprise</th>\n",
       "      <th>Technologies</th>\n",
       "      <th>Diplome</th>\n",
       "      <th>Experience</th>\n",
       "      <th>Ville</th>\n",
       "    </tr>\n",
       "  </thead>\n",
       "  <tbody>\n",
       "    <tr>\n",
       "      <th>7836</th>\n",
       "      <td>General Electric</td>\n",
       "      <td>Docker/GNU/Windows/Linux/Python</td>\n",
       "      <td>Bachelor</td>\n",
       "      <td>3,5</td>\n",
       "      <td>Toulouse</td>\n",
       "    </tr>\n",
       "    <tr>\n",
       "      <th>7693</th>\n",
       "      <td>Brigham &amp; Women's Hospital(BWH)</td>\n",
       "      <td>Java/AWS/Elasticsearch/Kibana</td>\n",
       "      <td>Phd</td>\n",
       "      <td>0</td>\n",
       "      <td>Bordeaux</td>\n",
       "    </tr>\n",
       "    <tr>\n",
       "      <th>2316</th>\n",
       "      <td>Ball Aerospace</td>\n",
       "      <td>Map-Reduce/HDFS/PIG/HBASE/Python/Cassandra</td>\n",
       "      <td>Master</td>\n",
       "      <td>0,5</td>\n",
       "      <td>Paris</td>\n",
       "    </tr>\n",
       "    <tr>\n",
       "      <th>8564</th>\n",
       "      <td>Blueprint Medicines</td>\n",
       "      <td>VBA/Python/Excel/R</td>\n",
       "      <td>Master</td>\n",
       "      <td>NaN</td>\n",
       "      <td>Toulouse</td>\n",
       "    </tr>\n",
       "    <tr>\n",
       "      <th>6254</th>\n",
       "      <td>xentity corporation</td>\n",
       "      <td>Python/Spark/GNU/Linux</td>\n",
       "      <td>Master</td>\n",
       "      <td>1</td>\n",
       "      <td>Toulon</td>\n",
       "    </tr>\n",
       "    <tr>\n",
       "      <th>...</th>\n",
       "      <td>...</td>\n",
       "      <td>...</td>\n",
       "      <td>...</td>\n",
       "      <td>...</td>\n",
       "      <td>...</td>\n",
       "    </tr>\n",
       "    <tr>\n",
       "      <th>5745</th>\n",
       "      <td>Ball Aerospace</td>\n",
       "      <td>SAS/Teradata/SQL/R/Python/Machine learning/Ang...</td>\n",
       "      <td>Master</td>\n",
       "      <td>9</td>\n",
       "      <td>Marseille</td>\n",
       "    </tr>\n",
       "    <tr>\n",
       "      <th>5199</th>\n",
       "      <td>Merck</td>\n",
       "      <td>Java/Linux/GNU/Docker</td>\n",
       "      <td>Phd</td>\n",
       "      <td>1</td>\n",
       "      <td>Paris</td>\n",
       "    </tr>\n",
       "    <tr>\n",
       "      <th>5398</th>\n",
       "      <td>Ontoforce NV</td>\n",
       "      <td>Python/Tensorflow/scikit-learn/Deep learning/R</td>\n",
       "      <td>Phd</td>\n",
       "      <td>0,5</td>\n",
       "      <td>Paris</td>\n",
       "    </tr>\n",
       "    <tr>\n",
       "      <th>861</th>\n",
       "      <td>KPMG</td>\n",
       "      <td>Python/Pyspark/Spark</td>\n",
       "      <td>Master</td>\n",
       "      <td>3,5</td>\n",
       "      <td>Toulouse</td>\n",
       "    </tr>\n",
       "    <tr>\n",
       "      <th>7285</th>\n",
       "      <td>Ardent Eagle Solutions</td>\n",
       "      <td>Python/Tensorflow/scikit-learn/Deep learning/R</td>\n",
       "      <td>Master</td>\n",
       "      <td>2</td>\n",
       "      <td>Nantes</td>\n",
       "    </tr>\n",
       "  </tbody>\n",
       "</table>\n",
       "<p>6407 rows × 5 columns</p>\n",
       "</div>"
      ],
      "text/plain": [
       "                           Entreprise  \\\n",
       "7836                 General Electric   \n",
       "7693  Brigham & Women's Hospital(BWH)   \n",
       "2316                   Ball Aerospace   \n",
       "8564              Blueprint Medicines   \n",
       "6254              xentity corporation   \n",
       "...                               ...   \n",
       "5745                   Ball Aerospace   \n",
       "5199                            Merck   \n",
       "5398                     Ontoforce NV   \n",
       "861                              KPMG   \n",
       "7285           Ardent Eagle Solutions   \n",
       "\n",
       "                                           Technologies   Diplome Experience  \\\n",
       "7836                    Docker/GNU/Windows/Linux/Python  Bachelor        3,5   \n",
       "7693                      Java/AWS/Elasticsearch/Kibana       Phd          0   \n",
       "2316         Map-Reduce/HDFS/PIG/HBASE/Python/Cassandra    Master        0,5   \n",
       "8564                                 VBA/Python/Excel/R    Master        NaN   \n",
       "6254                             Python/Spark/GNU/Linux    Master          1   \n",
       "...                                                 ...       ...        ...   \n",
       "5745  SAS/Teradata/SQL/R/Python/Machine learning/Ang...    Master          9   \n",
       "5199                              Java/Linux/GNU/Docker       Phd          1   \n",
       "5398     Python/Tensorflow/scikit-learn/Deep learning/R       Phd        0,5   \n",
       "861                                Python/Pyspark/Spark    Master        3,5   \n",
       "7285     Python/Tensorflow/scikit-learn/Deep learning/R    Master          2   \n",
       "\n",
       "          Ville  \n",
       "7836   Toulouse  \n",
       "7693   Bordeaux  \n",
       "2316      Paris  \n",
       "8564   Toulouse  \n",
       "6254     Toulon  \n",
       "...         ...  \n",
       "5745  Marseille  \n",
       "5199      Paris  \n",
       "5398      Paris  \n",
       "861    Toulouse  \n",
       "7285     Nantes  \n",
       "\n",
       "[6407 rows x 5 columns]"
      ]
     },
     "execution_count": 11,
     "metadata": {},
     "output_type": "execute_result"
    }
   ],
   "source": [
    "X_train"
   ]
  },
  {
   "cell_type": "code",
   "execution_count": 12,
   "metadata": {},
   "outputs": [
    {
     "data": {
      "text/html": [
       "<div>\n",
       "<style scoped>\n",
       "    .dataframe tbody tr th:only-of-type {\n",
       "        vertical-align: middle;\n",
       "    }\n",
       "\n",
       "    .dataframe tbody tr th {\n",
       "        vertical-align: top;\n",
       "    }\n",
       "\n",
       "    .dataframe thead th {\n",
       "        text-align: right;\n",
       "    }\n",
       "</style>\n",
       "<table border=\"1\" class=\"dataframe\">\n",
       "  <thead>\n",
       "    <tr style=\"text-align: right;\">\n",
       "      <th></th>\n",
       "      <th>0</th>\n",
       "      <th>1</th>\n",
       "      <th>2</th>\n",
       "      <th>3</th>\n",
       "      <th>4</th>\n",
       "      <th>5</th>\n",
       "      <th>6</th>\n",
       "      <th>7</th>\n",
       "      <th>8</th>\n",
       "      <th>9</th>\n",
       "      <th>...</th>\n",
       "      <th>390</th>\n",
       "      <th>391</th>\n",
       "      <th>392</th>\n",
       "      <th>393</th>\n",
       "      <th>394</th>\n",
       "      <th>395</th>\n",
       "      <th>396</th>\n",
       "      <th>397</th>\n",
       "      <th>398</th>\n",
       "      <th>399</th>\n",
       "    </tr>\n",
       "  </thead>\n",
       "  <tbody>\n",
       "    <tr>\n",
       "      <th>0</th>\n",
       "      <td>0</td>\n",
       "      <td>0</td>\n",
       "      <td>0</td>\n",
       "      <td>0</td>\n",
       "      <td>0</td>\n",
       "      <td>0</td>\n",
       "      <td>0</td>\n",
       "      <td>0</td>\n",
       "      <td>0</td>\n",
       "      <td>0</td>\n",
       "      <td>...</td>\n",
       "      <td>0</td>\n",
       "      <td>0</td>\n",
       "      <td>0</td>\n",
       "      <td>0</td>\n",
       "      <td>1</td>\n",
       "      <td>0</td>\n",
       "      <td>0</td>\n",
       "      <td>0</td>\n",
       "      <td>0</td>\n",
       "      <td>0</td>\n",
       "    </tr>\n",
       "    <tr>\n",
       "      <th>1</th>\n",
       "      <td>0</td>\n",
       "      <td>0</td>\n",
       "      <td>0</td>\n",
       "      <td>0</td>\n",
       "      <td>0</td>\n",
       "      <td>0</td>\n",
       "      <td>0</td>\n",
       "      <td>0</td>\n",
       "      <td>0</td>\n",
       "      <td>0</td>\n",
       "      <td>...</td>\n",
       "      <td>1</td>\n",
       "      <td>0</td>\n",
       "      <td>0</td>\n",
       "      <td>0</td>\n",
       "      <td>0</td>\n",
       "      <td>0</td>\n",
       "      <td>0</td>\n",
       "      <td>0</td>\n",
       "      <td>0</td>\n",
       "      <td>0</td>\n",
       "    </tr>\n",
       "    <tr>\n",
       "      <th>2</th>\n",
       "      <td>0</td>\n",
       "      <td>0</td>\n",
       "      <td>0</td>\n",
       "      <td>0</td>\n",
       "      <td>0</td>\n",
       "      <td>0</td>\n",
       "      <td>0</td>\n",
       "      <td>0</td>\n",
       "      <td>0</td>\n",
       "      <td>0</td>\n",
       "      <td>...</td>\n",
       "      <td>0</td>\n",
       "      <td>0</td>\n",
       "      <td>1</td>\n",
       "      <td>0</td>\n",
       "      <td>0</td>\n",
       "      <td>0</td>\n",
       "      <td>0</td>\n",
       "      <td>0</td>\n",
       "      <td>0</td>\n",
       "      <td>0</td>\n",
       "    </tr>\n",
       "    <tr>\n",
       "      <th>3</th>\n",
       "      <td>0</td>\n",
       "      <td>0</td>\n",
       "      <td>0</td>\n",
       "      <td>0</td>\n",
       "      <td>0</td>\n",
       "      <td>0</td>\n",
       "      <td>0</td>\n",
       "      <td>0</td>\n",
       "      <td>0</td>\n",
       "      <td>0</td>\n",
       "      <td>...</td>\n",
       "      <td>1</td>\n",
       "      <td>0</td>\n",
       "      <td>0</td>\n",
       "      <td>0</td>\n",
       "      <td>0</td>\n",
       "      <td>0</td>\n",
       "      <td>0</td>\n",
       "      <td>0</td>\n",
       "      <td>0</td>\n",
       "      <td>0</td>\n",
       "    </tr>\n",
       "    <tr>\n",
       "      <th>4</th>\n",
       "      <td>0</td>\n",
       "      <td>0</td>\n",
       "      <td>0</td>\n",
       "      <td>0</td>\n",
       "      <td>0</td>\n",
       "      <td>0</td>\n",
       "      <td>0</td>\n",
       "      <td>0</td>\n",
       "      <td>0</td>\n",
       "      <td>0</td>\n",
       "      <td>...</td>\n",
       "      <td>0</td>\n",
       "      <td>0</td>\n",
       "      <td>0</td>\n",
       "      <td>0</td>\n",
       "      <td>0</td>\n",
       "      <td>0</td>\n",
       "      <td>0</td>\n",
       "      <td>0</td>\n",
       "      <td>0</td>\n",
       "      <td>0</td>\n",
       "    </tr>\n",
       "  </tbody>\n",
       "</table>\n",
       "<p>5 rows × 400 columns</p>\n",
       "</div>"
      ],
      "text/plain": [
       "   0    1    2    3    4    5    6    7    8    9    ...  390  391  392  393  \\\n",
       "0    0    0    0    0    0    0    0    0    0    0  ...    0    0    0    0   \n",
       "1    0    0    0    0    0    0    0    0    0    0  ...    1    0    0    0   \n",
       "2    0    0    0    0    0    0    0    0    0    0  ...    0    0    1    0   \n",
       "3    0    0    0    0    0    0    0    0    0    0  ...    1    0    0    0   \n",
       "4    0    0    0    0    0    0    0    0    0    0  ...    0    0    0    0   \n",
       "\n",
       "   394  395  396  397  398  399  \n",
       "0    1    0    0    0    0    0  \n",
       "1    0    0    0    0    0    0  \n",
       "2    0    0    0    0    0    0  \n",
       "3    0    0    0    0    0    0  \n",
       "4    0    0    0    0    0    0  \n",
       "\n",
       "[5 rows x 400 columns]"
      ]
     },
     "execution_count": 12,
     "metadata": {},
     "output_type": "execute_result"
    }
   ],
   "source": [
    "pd.DataFrame(preproc.fit_transform(X)).astype(int).head()"
   ]
  },
  {
   "cell_type": "code",
   "execution_count": 13,
   "metadata": {},
   "outputs": [
    {
     "data": {
      "text/plain": [
       "array(['Data scientist', 'Data architecte', 'Data scientist', ...,\n",
       "       'Data scientist', 'Data scientist', 'Data scientist'], dtype=object)"
      ]
     },
     "execution_count": 13,
     "metadata": {},
     "output_type": "execute_result"
    }
   ],
   "source": [
    "from sklearn.neighbors import KNeighborsClassifier\n",
    "\n",
    "pl = Pipeline([\n",
    "    ('preprocessor', preproc), \n",
    "    ('kmeans', KNeighborsClassifier(n_neighbors=7))\n",
    "])\n",
    "    \n",
    "pl.fit(X, y)\n",
    "pl.predict(X)"
   ]
  },
  {
   "cell_type": "code",
   "execution_count": 14,
   "metadata": {},
   "outputs": [
    {
     "data": {
      "text/html": [
       "<div>\n",
       "<style scoped>\n",
       "    .dataframe tbody tr th:only-of-type {\n",
       "        vertical-align: middle;\n",
       "    }\n",
       "\n",
       "    .dataframe tbody tr th {\n",
       "        vertical-align: top;\n",
       "    }\n",
       "\n",
       "    .dataframe thead th {\n",
       "        text-align: right;\n",
       "    }\n",
       "</style>\n",
       "<table border=\"1\" class=\"dataframe\">\n",
       "  <thead>\n",
       "    <tr style=\"text-align: right;\">\n",
       "      <th>Metier</th>\n",
       "      <th>Data architecte</th>\n",
       "      <th>Data engineer</th>\n",
       "      <th>Data scientist</th>\n",
       "      <th>Lead data scientist</th>\n",
       "    </tr>\n",
       "    <tr>\n",
       "      <th>Predictions</th>\n",
       "      <th></th>\n",
       "      <th></th>\n",
       "      <th></th>\n",
       "      <th></th>\n",
       "    </tr>\n",
       "  </thead>\n",
       "  <tbody>\n",
       "    <tr>\n",
       "      <th>Data architecte</th>\n",
       "      <td>2030.0</td>\n",
       "      <td>27.0</td>\n",
       "      <td>19.0</td>\n",
       "      <td>10.0</td>\n",
       "    </tr>\n",
       "    <tr>\n",
       "      <th>Data engineer</th>\n",
       "      <td>53.0</td>\n",
       "      <td>2308.0</td>\n",
       "      <td>3.0</td>\n",
       "      <td>3.0</td>\n",
       "    </tr>\n",
       "    <tr>\n",
       "      <th>Data scientist</th>\n",
       "      <td>36.0</td>\n",
       "      <td>8.0</td>\n",
       "      <td>3696.0</td>\n",
       "      <td>769.0</td>\n",
       "    </tr>\n",
       "    <tr>\n",
       "      <th>Lead data scientist</th>\n",
       "      <td>0.0</td>\n",
       "      <td>0.0</td>\n",
       "      <td>142.0</td>\n",
       "      <td>442.0</td>\n",
       "    </tr>\n",
       "  </tbody>\n",
       "</table>\n",
       "</div>"
      ],
      "text/plain": [
       "Metier               Data architecte  Data engineer  Data scientist  \\\n",
       "Predictions                                                           \n",
       "Data architecte               2030.0           27.0            19.0   \n",
       "Data engineer                   53.0         2308.0             3.0   \n",
       "Data scientist                  36.0            8.0          3696.0   \n",
       "Lead data scientist              0.0            0.0           142.0   \n",
       "\n",
       "Metier               Lead data scientist  \n",
       "Predictions                               \n",
       "Data architecte                     10.0  \n",
       "Data engineer                        3.0  \n",
       "Data scientist                     769.0  \n",
       "Lead data scientist                442.0  "
      ]
     },
     "execution_count": 14,
     "metadata": {},
     "output_type": "execute_result"
    }
   ],
   "source": [
    "new = df.copy()\n",
    "new['Predictions'] = pl.predict(X)\n",
    "new.pivot_table(\n",
    "    index=\"Predictions\",\n",
    "    columns=\"Metier\",\n",
    "    values=None,\n",
    "    aggfunc=\"count\").Entreprise.fillna(0)"
   ]
  },
  {
   "cell_type": "code",
   "execution_count": 15,
   "metadata": {},
   "outputs": [
    {
     "data": {
      "text/plain": [
       "0.8875875771201506"
      ]
     },
     "execution_count": 15,
     "metadata": {},
     "output_type": "execute_result"
    }
   ],
   "source": [
    "pl.score(X, y) #0.892920631600962"
   ]
  },
  {
   "cell_type": "code",
   "execution_count": 16,
   "metadata": {},
   "outputs": [
    {
     "data": {
      "text/plain": [
       "0.957753842936317"
      ]
     },
     "execution_count": 16,
     "metadata": {},
     "output_type": "execute_result"
    }
   ],
   "source": [
    "from sklearn.ensemble import RandomForestClassifier\n",
    "\n",
    "pl = Pipeline([\n",
    "    ('preprocessor', preproc), \n",
    "    ('random', RandomForestClassifier())\n",
    "])\n",
    "    \n",
    "pl.fit(X, y)\n",
    "pl.score(X, y)"
   ]
  },
  {
   "cell_type": "code",
   "execution_count": 17,
   "metadata": {},
   "outputs": [
    {
     "data": {
      "text/html": [
       "<div>\n",
       "<style scoped>\n",
       "    .dataframe tbody tr th:only-of-type {\n",
       "        vertical-align: middle;\n",
       "    }\n",
       "\n",
       "    .dataframe tbody tr th {\n",
       "        vertical-align: top;\n",
       "    }\n",
       "\n",
       "    .dataframe thead th {\n",
       "        text-align: right;\n",
       "    }\n",
       "</style>\n",
       "<table border=\"1\" class=\"dataframe\">\n",
       "  <thead>\n",
       "    <tr style=\"text-align: right;\">\n",
       "      <th>Metier</th>\n",
       "      <th>Data architecte</th>\n",
       "      <th>Data engineer</th>\n",
       "      <th>Data scientist</th>\n",
       "      <th>Lead data scientist</th>\n",
       "    </tr>\n",
       "    <tr>\n",
       "      <th>Predictions</th>\n",
       "      <th></th>\n",
       "      <th></th>\n",
       "      <th></th>\n",
       "      <th></th>\n",
       "    </tr>\n",
       "  </thead>\n",
       "  <tbody>\n",
       "    <tr>\n",
       "      <th>Data architecte</th>\n",
       "      <td>2106.0</td>\n",
       "      <td>0.0</td>\n",
       "      <td>20.0</td>\n",
       "      <td>6.0</td>\n",
       "    </tr>\n",
       "    <tr>\n",
       "      <th>Data engineer</th>\n",
       "      <td>0.0</td>\n",
       "      <td>2343.0</td>\n",
       "      <td>0.0</td>\n",
       "      <td>0.0</td>\n",
       "    </tr>\n",
       "    <tr>\n",
       "      <th>Data scientist</th>\n",
       "      <td>13.0</td>\n",
       "      <td>0.0</td>\n",
       "      <td>3729.0</td>\n",
       "      <td>252.0</td>\n",
       "    </tr>\n",
       "    <tr>\n",
       "      <th>Lead data scientist</th>\n",
       "      <td>0.0</td>\n",
       "      <td>0.0</td>\n",
       "      <td>111.0</td>\n",
       "      <td>966.0</td>\n",
       "    </tr>\n",
       "  </tbody>\n",
       "</table>\n",
       "</div>"
      ],
      "text/plain": [
       "Metier               Data architecte  Data engineer  Data scientist  \\\n",
       "Predictions                                                           \n",
       "Data architecte               2106.0            0.0            20.0   \n",
       "Data engineer                    0.0         2343.0             0.0   \n",
       "Data scientist                  13.0            0.0          3729.0   \n",
       "Lead data scientist              0.0            0.0           111.0   \n",
       "\n",
       "Metier               Lead data scientist  \n",
       "Predictions                               \n",
       "Data architecte                      6.0  \n",
       "Data engineer                        0.0  \n",
       "Data scientist                     252.0  \n",
       "Lead data scientist                966.0  "
      ]
     },
     "execution_count": 17,
     "metadata": {},
     "output_type": "execute_result"
    }
   ],
   "source": [
    "new = df.copy()\n",
    "new['Predictions'] = pl.predict(X)\n",
    "new.pivot_table(\n",
    "    index=\"Predictions\",\n",
    "    columns=\"Metier\",\n",
    "    values=None,\n",
    "    aggfunc=\"count\").Entreprise.fillna(0)"
   ]
  },
  {
   "cell_type": "code",
   "execution_count": 18,
   "metadata": {},
   "outputs": [
    {
     "name": "stdout",
     "output_type": "stream",
     "text": [
      "0.8824722959263306\n",
      "0.861850443599493\n"
     ]
    }
   ],
   "source": [
    "pl = Pipeline([\n",
    "    ('preprocessor', preproc), \n",
    "    ('kmeans', KNeighborsClassifier(n_neighbors=7))\n",
    "])\n",
    "\n",
    "pl.fit(X_train, y_train)\n",
    "print(pl.score(X_train, y_train))\n",
    "print(pl.score(X_test, y_test))"
   ]
  },
  {
   "cell_type": "code",
   "execution_count": 19,
   "metadata": {},
   "outputs": [
    {
     "name": "stdout",
     "output_type": "stream",
     "text": [
      "0.9193070079600437\n",
      "0.8789607097591888\n"
     ]
    }
   ],
   "source": [
    "pl = Pipeline([\n",
    "    ('preprocessor', preproc), \n",
    "    ('random', RandomForestClassifier(max_depth=20))\n",
    "])\n",
    "\n",
    "pl.fit(X_train, y_train)\n",
    "print(pl.score(X_train, y_train))\n",
    "print(pl.score(X_test, y_test))"
   ]
  },
  {
   "cell_type": "code",
   "execution_count": 28,
   "metadata": {},
   "outputs": [],
   "source": [
    "score = pd.DataFrame(columns=['train', 'test'])\n",
    "for depth in range(5, 30, 2):\n",
    "    pl = Pipeline([\n",
    "        ('preprocessor', preproc), \n",
    "        ('random', RandomForestClassifier(max_depth=depth))\n",
    "    ])\n",
    "\n",
    "    pl.fit(X_train, y_train)\n",
    "    score = score.append({'train': pl.score(X_train, y_train),\n",
    "                          'test': pl.score(X_test, y_test)}, ignore_index=True)\n",
    "    \n",
    "score.index = range(5, 30, 2)"
   ]
  },
  {
   "cell_type": "code",
   "execution_count": 29,
   "metadata": {},
   "outputs": [
    {
     "data": {
      "text/plain": [
       "<AxesSubplot:>"
      ]
     },
     "execution_count": 29,
     "metadata": {},
     "output_type": "execute_result"
    },
    {
     "data": {
      "image/png": "[encoded data removed]",
      "text/plain": [
       "<Figure size 640x480 with 1 Axes>"
      ]
     },
     "metadata": {},
     "output_type": "display_data"
    }
   ],
   "source": [
    "sns.lineplot(data=score)"
   ]
  },
  {
   "attachments": {},
   "cell_type": "markdown",
   "metadata": {},
   "source": [
    "## Explication \n",
    "\n",
    "**Métrique**: classification binaire, \n",
    "\n",
    "le score qui consiste à faire la compte des prédictions correctes divisée par le nombre de prédiction. \n",
    "\n",
    "**Performance**:\n",
    "- KNeighborsClassifier: \n",
    "  - train:    88.247%\n",
    "  - test:     86.185%\n",
    "- RandomForestClassifier: \n",
    "  - train:    91.853%\n",
    "  - test:     87.801%\n",
    "  \n",
    "les résultats sont plutôt bon, encore un fois comparé à un modèle aléatoire (25% de reussite, une chance sur quatre), on à un modèle bien plus efficace. Sur 100 personnes, le moèdele arrive à prédire correctement le métier de 86-87 personnes. \n",
    "\n",
    "**Interpretation**: \n",
    "\n",
    "Si on regarde en détail, on peut voir que les erreurs sont globalement sur la différence entre lead data scientist et data scientist. Cette différence peut parfois ne pas être expliquée par les données ici présentées, en effet, certaines personnes souhaitent rester du coté technique toute leur vie tandis que certaines cherchent des fonctions managériales rapidement. "
   ]
  }
 ],
 "metadata": {
  "kernel_info": {
   "name": "python3"
  },
  "kernelspec": {
   "display_name": "Python 3.8.13",
   "language": "python",
   "name": "python3"
  },
  "language_info": {
   "codemirror_mode": {
    "name": "ipython",
    "version": 3
   },
   "file_extension": ".py",
   "mimetype": "text/x-python",
   "name": "python",
   "nbconvert_exporter": "python",
   "pygments_lexer": "ipython3",
   "version": "3.8.13"
  },
  "nteract": {
   "version": "0.15.0"
  },
  "otter": {
   "tests": {
    "q1": {
     "name": "q1",
     "points": null,
     "suites": [
      {
       "cases": [
        {
         "code": ">>> set(car_null_hypoth()) <= set(range(1, 7))\nTrue",
         "hidden": false,
         "locked": false,
         "points": 0.5
        },
        {
         "code": ">>> set(car_alt_hypoth()) <= set(range(1, 7))\nTrue",
         "hidden": false,
         "locked": false,
         "points": 0.5
        },
        {
         "code": ">>> set(car_test_stat()) <= set(range(1, 5))\nTrue",
         "hidden": false,
         "locked": false,
         "points": 0.5
        },
        {
         "code": ">>> car_p_value() in set(range(1, 6))\nTrue",
         "hidden": false,
         "locked": false,
         "points": 0.5
        }
       ],
       "scored": true,
       "setup": "",
       "teardown": "",
       "type": "doctest"
      }
     ]
    },
    "q2": {
     "name": "q2",
     "points": null,
     "suites": [
      {
       "cases": [
        {
         "code": ">>> cleaned.shape[0] == df.shape[0]\nTrue",
         "hidden": false,
         "locked": false,
         "points": 0.5
        },
        {
         "code": ">>> cleaned['nation'].nunique() == 59\nTrue",
         "hidden": false,
         "locked": false,
         "points": 1
        },
        {
         "code": ">>> len(info) == 4\nTrue",
         "hidden": false,
         "locked": false,
         "points": 0.5
        },
        {
         "code": ">>> all([isinstance(x, y) for x, y in zip(info, [str, float, int, str])])\nTrue",
         "hidden": false,
         "locked": false,
         "points": 0.5
        },
        {
         "code": ">>> (info[1] >= 0) & (info[1] <= 1)\nTrue",
         "hidden": false,
         "locked": false,
         "points": 0.5
        }
       ],
       "scored": true,
       "setup": "",
       "teardown": "",
       "type": "doctest"
      }
     ]
    },
    "q3": {
     "name": "q3",
     "points": null,
     "suites": [
      {
       "cases": [
        {
         "code": ">>> universities_out.shape[0] == cleaned.shape[0]\nTrue",
         "hidden": false,
         "locked": false,
         "points": 0.5
        },
        {
         "code": ">>> all(universities_out.columns == ['institution', 'nation', 'score'])\nTrue",
         "hidden": false,
         "locked": false,
         "points": 0.5
        },
        {
         "code": ">>> np.all(abs(universities_out.select_dtypes(include='number').mean()) < 10**-7)  # standard units should average to 0!\nTrue",
         "hidden": false,
         "locked": false,
         "points": 0.5
        },
        {
         "code": ">>> len(su_and_spread_out) == 2\nTrue",
         "hidden": false,
         "locked": false,
         "points": 0.5
        },
        {
         "code": ">>> su_and_spread_out[0] in np.arange(1, 4)\nTrue",
         "hidden": false,
         "locked": false,
         "points": 0.5
        },
        {
         "code": ">>> isinstance(su_and_spread_out[1], str)\nTrue",
         "hidden": false,
         "locked": false,
         "points": 0.5
        }
       ],
       "scored": true,
       "setup": "",
       "teardown": "",
       "type": "doctest"
      }
     ]
    },
    "q4": {
     "name": "q4",
     "points": null,
     "suites": [
      {
       "cases": [
        {
         "code": ">>> isinstance(q4_out, pd.DataFrame) == True\nTrue",
         "hidden": false,
         "locked": false,
         "points": 1
        },
        {
         "code": ">>> len(q4_out) == 5000\nTrue",
         "hidden": false,
         "locked": false,
         "points": 1
        },
        {
         "code": ">>> try:\n...     read_linkedin_survey('nonexistentfile')\n... except FileNotFoundError:\n...     print(True)\nTrue\n",
         "hidden": false,
         "locked": false,
         "points": 1
        },
        {
         "code": ">>> len(stats_out) == 4\nTrue",
         "hidden": false,
         "locked": false,
         "points": 1
        },
        {
         "code": ">>> isinstance(stats_out[0], float)\nTrue",
         "hidden": false,
         "locked": false,
         "points": 1
        },
        {
         "code": ">>> isinstance(stats_out[2], str)\nTrue",
         "hidden": false,
         "locked": false,
         "points": 1
        }
       ],
       "scored": true,
       "setup": "",
       "teardown": "",
       "type": "doctest"
      }
     ]
    },
    "q5": {
     "name": "q5",
     "points": null,
     "suites": [
      {
       "cases": [
        {
         "code": ">>> isinstance(q5_out, pd.DataFrame)\nTrue",
         "hidden": false,
         "locked": false,
         "points": 1
        },
        {
         "code": ">>> q5_out.shape == (1000, 6)\nTrue",
         "hidden": false,
         "locked": false,
         "points": 1
        },
        {
         "code": ">>> try:\n...     read_student_surveys('nonexistentfile')\n... except FileNotFoundError:\n...     print(True)\nTrue\n",
         "hidden": false,
         "locked": false,
         "points": 1
        },
        {
         "code": ">>> check_credit_out.shape == (1000, 2)\nTrue",
         "hidden": false,
         "locked": false,
         "points": 1
        },
        {
         "code": ">>> check_credit_out['ec'].max() == 6\nTrue",
         "hidden": false,
         "locked": false,
         "points": 1
        }
       ],
       "scored": true,
       "setup": "",
       "teardown": "",
       "type": "doctest"
      }
     ]
    },
    "q6": {
     "name": "q6",
     "points": null,
     "suites": [
      {
       "cases": [
        {
         "code": ">>> isinstance(out_01, str)\nTrue",
         "hidden": false,
         "locked": false,
         "points": 1
        },
        {
         "code": ">>> len(out_02) == len(owners)\nTrue",
         "hidden": false,
         "locked": false,
         "points": 1
        },
        {
         "code": ">>> 'Sarah' in out_02.index\nTrue",
         "hidden": false,
         "locked": false,
         "points": 1
        },
        {
         "code": ">>> 'Cookie' in out_02.values\nTrue",
         "hidden": false,
         "locked": false,
         "points": 1
        },
        {
         "code": ">>> set(out_03.index) <= set(owners['City'])\nTrue",
         "hidden": false,
         "locked": false,
         "points": 1
        }
       ],
       "scored": true,
       "setup": "",
       "teardown": "",
       "type": "doctest"
      }
     ]
    }
   }
  },
  "vscode": {
   "interpreter": {
    "hash": "bada3f752f9ffb4a36e22b9957204165790d2a352948163d32c044c30f2f6ee5"
   }
  }
 },
 "nbformat": 4,
 "nbformat_minor": 2
}
